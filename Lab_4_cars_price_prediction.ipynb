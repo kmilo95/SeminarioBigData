{
  "cells": [
    {
      "cell_type": "markdown",
      "metadata": {
        "id": "view-in-github",
        "colab_type": "text"
      },
      "source": [
        "<a href=\"https://colab.research.google.com/github/kmilo95/SeminarioBigData/blob/main/Lab_4_cars_price_prediction.ipynb\" target=\"_parent\"><img src=\"https://colab.research.google.com/assets/colab-badge.svg\" alt=\"Open In Colab\"/></a>"
      ]
    },
    {
      "cell_type": "markdown",
      "id": "d95f2ef3",
      "metadata": {
        "id": "d95f2ef3"
      },
      "source": [
        "# Cars price prediction\n",
        "[Author: Elias Buitrago Bolivar](https://github.com/ebuitrago?tab=repositories)\n",
        "\n",
        "The objective of this jupyter notebook is to train a machine learning algorithm to predict a car's price, based on known characteristics. The training data was obtained by web scraping, using Selenium and Beautiful Soap from tucarro.com.co; This project has no commercial purposes its for merely academic endeavor.\n",
        "_Updated: July 8th, 2024_\n",
        "\n",
        "Refactoring Code: Camilo Cárdenas"
      ]
    },
    {
      "cell_type": "markdown",
      "id": "bc4c3640",
      "metadata": {
        "id": "bc4c3640"
      },
      "source": [
        "## Data understanding"
      ]
    },
    {
      "cell_type": "markdown",
      "id": "2cee4321",
      "metadata": {
        "id": "2cee4321"
      },
      "source": [
        "### Import libraries"
      ]
    },
    {
      "cell_type": "code",
      "execution_count": null,
      "id": "ae6857d8",
      "metadata": {
        "id": "ae6857d8"
      },
      "outputs": [],
      "source": [
        "import numpy as np\n",
        "import pandas as pd\n",
        "import matplotlib.pyplot as plt\n",
        "import seaborn as sns\n",
        "import re"
      ]
    },
    {
      "cell_type": "code",
      "source": [
        "from google.colab import drive\n",
        "drive.mount('/content/drive')"
      ],
      "metadata": {
        "colab": {
          "base_uri": "https://localhost:8080/"
        },
        "id": "W9Ut4Wh_WIxd",
        "outputId": "94e291d2-4a08-4e8c-a10e-708ea50c9571"
      },
      "id": "W9Ut4Wh_WIxd",
      "execution_count": null,
      "outputs": [
        {
          "output_type": "stream",
          "name": "stdout",
          "text": [
            "Mounted at /content/drive\n"
          ]
        }
      ]
    },
    {
      "cell_type": "markdown",
      "id": "634627c4",
      "metadata": {
        "id": "634627c4"
      },
      "source": [
        "### Load data"
      ]
    },
    {
      "cell_type": "code",
      "execution_count": null,
      "id": "270a026f",
      "metadata": {
        "id": "270a026f",
        "outputId": "012b1987-9389-4465-813d-eb95c0183ffa",
        "colab": {
          "base_uri": "https://localhost:8080/",
          "height": 224
        }
      },
      "outputs": [
        {
          "output_type": "stream",
          "name": "stdout",
          "text": [
            "(336, 6)\n"
          ]
        },
        {
          "output_type": "execute_result",
          "data": {
            "text/plain": [
              "                                             model         price  year  \\\n",
              "0                       Mazda CX-30 2.0 Touring At   $96.900.000  2022   \n",
              "1                    Mazda CX-30 2.0 Grand Touring  $110.000.000  2022   \n",
              "2                Mazda cx-50 2.5 Grand Touring Awd  $186.600.000  2024   \n",
              "3                 Mazda CX-30 2.0 Grand Touring At  $102.000.000  2022   \n",
              "4  Mazda Cx-30 Touring 2.0 At Hibrida 2025 /127/jl  $118.990.000  2025   \n",
              "\n",
              "      kms   color  fueltype  \n",
              "0  28.120    Gris  Gasolina  \n",
              "1  48.622  Blanco  Gasolina  \n",
              "2   0.000  Blanco  Gasolina  \n",
              "3  32.000    Gris  Gasolina  \n",
              "4   0.000  Blanco  HÃ­brido  "
            ],
            "text/html": [
              "\n",
              "  <div id=\"df-d2bda334-1afb-4cee-89a8-6fe14629307e\" class=\"colab-df-container\">\n",
              "    <div>\n",
              "<style scoped>\n",
              "    .dataframe tbody tr th:only-of-type {\n",
              "        vertical-align: middle;\n",
              "    }\n",
              "\n",
              "    .dataframe tbody tr th {\n",
              "        vertical-align: top;\n",
              "    }\n",
              "\n",
              "    .dataframe thead th {\n",
              "        text-align: right;\n",
              "    }\n",
              "</style>\n",
              "<table border=\"1\" class=\"dataframe\">\n",
              "  <thead>\n",
              "    <tr style=\"text-align: right;\">\n",
              "      <th></th>\n",
              "      <th>model</th>\n",
              "      <th>price</th>\n",
              "      <th>year</th>\n",
              "      <th>kms</th>\n",
              "      <th>color</th>\n",
              "      <th>fueltype</th>\n",
              "    </tr>\n",
              "  </thead>\n",
              "  <tbody>\n",
              "    <tr>\n",
              "      <th>0</th>\n",
              "      <td>Mazda CX-30 2.0 Touring At</td>\n",
              "      <td>$96.900.000</td>\n",
              "      <td>2022</td>\n",
              "      <td>28.120</td>\n",
              "      <td>Gris</td>\n",
              "      <td>Gasolina</td>\n",
              "    </tr>\n",
              "    <tr>\n",
              "      <th>1</th>\n",
              "      <td>Mazda CX-30 2.0 Grand Touring</td>\n",
              "      <td>$110.000.000</td>\n",
              "      <td>2022</td>\n",
              "      <td>48.622</td>\n",
              "      <td>Blanco</td>\n",
              "      <td>Gasolina</td>\n",
              "    </tr>\n",
              "    <tr>\n",
              "      <th>2</th>\n",
              "      <td>Mazda cx-50 2.5 Grand Touring Awd</td>\n",
              "      <td>$186.600.000</td>\n",
              "      <td>2024</td>\n",
              "      <td>0.000</td>\n",
              "      <td>Blanco</td>\n",
              "      <td>Gasolina</td>\n",
              "    </tr>\n",
              "    <tr>\n",
              "      <th>3</th>\n",
              "      <td>Mazda CX-30 2.0 Grand Touring At</td>\n",
              "      <td>$102.000.000</td>\n",
              "      <td>2022</td>\n",
              "      <td>32.000</td>\n",
              "      <td>Gris</td>\n",
              "      <td>Gasolina</td>\n",
              "    </tr>\n",
              "    <tr>\n",
              "      <th>4</th>\n",
              "      <td>Mazda Cx-30 Touring 2.0 At Hibrida 2025 /127/jl</td>\n",
              "      <td>$118.990.000</td>\n",
              "      <td>2025</td>\n",
              "      <td>0.000</td>\n",
              "      <td>Blanco</td>\n",
              "      <td>HÃ­brido</td>\n",
              "    </tr>\n",
              "  </tbody>\n",
              "</table>\n",
              "</div>\n",
              "    <div class=\"colab-df-buttons\">\n",
              "\n",
              "  <div class=\"colab-df-container\">\n",
              "    <button class=\"colab-df-convert\" onclick=\"convertToInteractive('df-d2bda334-1afb-4cee-89a8-6fe14629307e')\"\n",
              "            title=\"Convert this dataframe to an interactive table.\"\n",
              "            style=\"display:none;\">\n",
              "\n",
              "  <svg xmlns=\"http://www.w3.org/2000/svg\" height=\"24px\" viewBox=\"0 -960 960 960\">\n",
              "    <path d=\"M120-120v-720h720v720H120Zm60-500h600v-160H180v160Zm220 220h160v-160H400v160Zm0 220h160v-160H400v160ZM180-400h160v-160H180v160Zm440 0h160v-160H620v160ZM180-180h160v-160H180v160Zm440 0h160v-160H620v160Z\"/>\n",
              "  </svg>\n",
              "    </button>\n",
              "\n",
              "  <style>\n",
              "    .colab-df-container {\n",
              "      display:flex;\n",
              "      gap: 12px;\n",
              "    }\n",
              "\n",
              "    .colab-df-convert {\n",
              "      background-color: #E8F0FE;\n",
              "      border: none;\n",
              "      border-radius: 50%;\n",
              "      cursor: pointer;\n",
              "      display: none;\n",
              "      fill: #1967D2;\n",
              "      height: 32px;\n",
              "      padding: 0 0 0 0;\n",
              "      width: 32px;\n",
              "    }\n",
              "\n",
              "    .colab-df-convert:hover {\n",
              "      background-color: #E2EBFA;\n",
              "      box-shadow: 0px 1px 2px rgba(60, 64, 67, 0.3), 0px 1px 3px 1px rgba(60, 64, 67, 0.15);\n",
              "      fill: #174EA6;\n",
              "    }\n",
              "\n",
              "    .colab-df-buttons div {\n",
              "      margin-bottom: 4px;\n",
              "    }\n",
              "\n",
              "    [theme=dark] .colab-df-convert {\n",
              "      background-color: #3B4455;\n",
              "      fill: #D2E3FC;\n",
              "    }\n",
              "\n",
              "    [theme=dark] .colab-df-convert:hover {\n",
              "      background-color: #434B5C;\n",
              "      box-shadow: 0px 1px 3px 1px rgba(0, 0, 0, 0.15);\n",
              "      filter: drop-shadow(0px 1px 2px rgba(0, 0, 0, 0.3));\n",
              "      fill: #FFFFFF;\n",
              "    }\n",
              "  </style>\n",
              "\n",
              "    <script>\n",
              "      const buttonEl =\n",
              "        document.querySelector('#df-d2bda334-1afb-4cee-89a8-6fe14629307e button.colab-df-convert');\n",
              "      buttonEl.style.display =\n",
              "        google.colab.kernel.accessAllowed ? 'block' : 'none';\n",
              "\n",
              "      async function convertToInteractive(key) {\n",
              "        const element = document.querySelector('#df-d2bda334-1afb-4cee-89a8-6fe14629307e');\n",
              "        const dataTable =\n",
              "          await google.colab.kernel.invokeFunction('convertToInteractive',\n",
              "                                                    [key], {});\n",
              "        if (!dataTable) return;\n",
              "\n",
              "        const docLinkHtml = 'Like what you see? Visit the ' +\n",
              "          '<a target=\"_blank\" href=https://colab.research.google.com/notebooks/data_table.ipynb>data table notebook</a>'\n",
              "          + ' to learn more about interactive tables.';\n",
              "        element.innerHTML = '';\n",
              "        dataTable['output_type'] = 'display_data';\n",
              "        await google.colab.output.renderOutput(dataTable, element);\n",
              "        const docLink = document.createElement('div');\n",
              "        docLink.innerHTML = docLinkHtml;\n",
              "        element.appendChild(docLink);\n",
              "      }\n",
              "    </script>\n",
              "  </div>\n",
              "\n",
              "\n",
              "<div id=\"df-3bc87243-5f6e-48c1-a116-066eb209215a\">\n",
              "  <button class=\"colab-df-quickchart\" onclick=\"quickchart('df-3bc87243-5f6e-48c1-a116-066eb209215a')\"\n",
              "            title=\"Suggest charts\"\n",
              "            style=\"display:none;\">\n",
              "\n",
              "<svg xmlns=\"http://www.w3.org/2000/svg\" height=\"24px\"viewBox=\"0 0 24 24\"\n",
              "     width=\"24px\">\n",
              "    <g>\n",
              "        <path d=\"M19 3H5c-1.1 0-2 .9-2 2v14c0 1.1.9 2 2 2h14c1.1 0 2-.9 2-2V5c0-1.1-.9-2-2-2zM9 17H7v-7h2v7zm4 0h-2V7h2v10zm4 0h-2v-4h2v4z\"/>\n",
              "    </g>\n",
              "</svg>\n",
              "  </button>\n",
              "\n",
              "<style>\n",
              "  .colab-df-quickchart {\n",
              "      --bg-color: #E8F0FE;\n",
              "      --fill-color: #1967D2;\n",
              "      --hover-bg-color: #E2EBFA;\n",
              "      --hover-fill-color: #174EA6;\n",
              "      --disabled-fill-color: #AAA;\n",
              "      --disabled-bg-color: #DDD;\n",
              "  }\n",
              "\n",
              "  [theme=dark] .colab-df-quickchart {\n",
              "      --bg-color: #3B4455;\n",
              "      --fill-color: #D2E3FC;\n",
              "      --hover-bg-color: #434B5C;\n",
              "      --hover-fill-color: #FFFFFF;\n",
              "      --disabled-bg-color: #3B4455;\n",
              "      --disabled-fill-color: #666;\n",
              "  }\n",
              "\n",
              "  .colab-df-quickchart {\n",
              "    background-color: var(--bg-color);\n",
              "    border: none;\n",
              "    border-radius: 50%;\n",
              "    cursor: pointer;\n",
              "    display: none;\n",
              "    fill: var(--fill-color);\n",
              "    height: 32px;\n",
              "    padding: 0;\n",
              "    width: 32px;\n",
              "  }\n",
              "\n",
              "  .colab-df-quickchart:hover {\n",
              "    background-color: var(--hover-bg-color);\n",
              "    box-shadow: 0 1px 2px rgba(60, 64, 67, 0.3), 0 1px 3px 1px rgba(60, 64, 67, 0.15);\n",
              "    fill: var(--button-hover-fill-color);\n",
              "  }\n",
              "\n",
              "  .colab-df-quickchart-complete:disabled,\n",
              "  .colab-df-quickchart-complete:disabled:hover {\n",
              "    background-color: var(--disabled-bg-color);\n",
              "    fill: var(--disabled-fill-color);\n",
              "    box-shadow: none;\n",
              "  }\n",
              "\n",
              "  .colab-df-spinner {\n",
              "    border: 2px solid var(--fill-color);\n",
              "    border-color: transparent;\n",
              "    border-bottom-color: var(--fill-color);\n",
              "    animation:\n",
              "      spin 1s steps(1) infinite;\n",
              "  }\n",
              "\n",
              "  @keyframes spin {\n",
              "    0% {\n",
              "      border-color: transparent;\n",
              "      border-bottom-color: var(--fill-color);\n",
              "      border-left-color: var(--fill-color);\n",
              "    }\n",
              "    20% {\n",
              "      border-color: transparent;\n",
              "      border-left-color: var(--fill-color);\n",
              "      border-top-color: var(--fill-color);\n",
              "    }\n",
              "    30% {\n",
              "      border-color: transparent;\n",
              "      border-left-color: var(--fill-color);\n",
              "      border-top-color: var(--fill-color);\n",
              "      border-right-color: var(--fill-color);\n",
              "    }\n",
              "    40% {\n",
              "      border-color: transparent;\n",
              "      border-right-color: var(--fill-color);\n",
              "      border-top-color: var(--fill-color);\n",
              "    }\n",
              "    60% {\n",
              "      border-color: transparent;\n",
              "      border-right-color: var(--fill-color);\n",
              "    }\n",
              "    80% {\n",
              "      border-color: transparent;\n",
              "      border-right-color: var(--fill-color);\n",
              "      border-bottom-color: var(--fill-color);\n",
              "    }\n",
              "    90% {\n",
              "      border-color: transparent;\n",
              "      border-bottom-color: var(--fill-color);\n",
              "    }\n",
              "  }\n",
              "</style>\n",
              "\n",
              "  <script>\n",
              "    async function quickchart(key) {\n",
              "      const quickchartButtonEl =\n",
              "        document.querySelector('#' + key + ' button');\n",
              "      quickchartButtonEl.disabled = true;  // To prevent multiple clicks.\n",
              "      quickchartButtonEl.classList.add('colab-df-spinner');\n",
              "      try {\n",
              "        const charts = await google.colab.kernel.invokeFunction(\n",
              "            'suggestCharts', [key], {});\n",
              "      } catch (error) {\n",
              "        console.error('Error during call to suggestCharts:', error);\n",
              "      }\n",
              "      quickchartButtonEl.classList.remove('colab-df-spinner');\n",
              "      quickchartButtonEl.classList.add('colab-df-quickchart-complete');\n",
              "    }\n",
              "    (() => {\n",
              "      let quickchartButtonEl =\n",
              "        document.querySelector('#df-3bc87243-5f6e-48c1-a116-066eb209215a button');\n",
              "      quickchartButtonEl.style.display =\n",
              "        google.colab.kernel.accessAllowed ? 'block' : 'none';\n",
              "    })();\n",
              "  </script>\n",
              "</div>\n",
              "\n",
              "    </div>\n",
              "  </div>\n"
            ],
            "application/vnd.google.colaboratory.intrinsic+json": {
              "type": "dataframe",
              "variable_name": "data",
              "summary": "{\n  \"name\": \"data\",\n  \"rows\": 336,\n  \"fields\": [\n    {\n      \"column\": \"model\",\n      \"properties\": {\n        \"dtype\": \"category\",\n        \"num_unique_values\": 83,\n        \"samples\": [\n          \"Mazda Cx-30 Touring 4x2 2.0 Hibrida 2025 / 170/ Cv\",\n          \"Mazda CX-30 2.0 Touring At\",\n          \"Mazda CX-30 Gran Touring Lx H\\u00c3\\u00adbrida AT 2.0 2024\"\n        ],\n        \"semantic_type\": \"\",\n        \"description\": \"\"\n      }\n    },\n    {\n      \"column\": \"price\",\n      \"properties\": {\n        \"dtype\": \"category\",\n        \"num_unique_values\": 162,\n        \"samples\": [\n          \"$85.000.000\",\n          \"$130.450.000\",\n          \"$282.600.000\"\n        ],\n        \"semantic_type\": \"\",\n        \"description\": \"\"\n      }\n    },\n    {\n      \"column\": \"year\",\n      \"properties\": {\n        \"dtype\": \"number\",\n        \"std\": 443,\n        \"min\": 0,\n        \"max\": 2025,\n        \"num_unique_values\": 10,\n        \"samples\": [\n          2019,\n          2024,\n          2017\n        ],\n        \"semantic_type\": \"\",\n        \"description\": \"\"\n      }\n    },\n    {\n      \"column\": \"kms\",\n      \"properties\": {\n        \"dtype\": \"number\",\n        \"std\": 20.40286126323079,\n        \"min\": 0.0,\n        \"max\": 136.5,\n        \"num_unique_values\": 179,\n        \"samples\": [\n          50.0,\n          33.0,\n          4.5\n        ],\n        \"semantic_type\": \"\",\n        \"description\": \"\"\n      }\n    },\n    {\n      \"column\": \"color\",\n      \"properties\": {\n        \"dtype\": \"category\",\n        \"num_unique_values\": 8,\n        \"samples\": [\n          \"Blanco\",\n          \"Plateado\",\n          \"Gris\"\n        ],\n        \"semantic_type\": \"\",\n        \"description\": \"\"\n      }\n    },\n    {\n      \"column\": \"fueltype\",\n      \"properties\": {\n        \"dtype\": \"category\",\n        \"num_unique_values\": 2,\n        \"samples\": [\n          \"H\\u00c3\\u00adbrido\",\n          \"Gasolina\"\n        ],\n        \"semantic_type\": \"\",\n        \"description\": \"\"\n      }\n    }\n  ]\n}"
            }
          },
          "metadata": {},
          "execution_count": 3
        }
      ],
      "source": [
        "cols = ['model','price','year','kms','color','fueltype']\n",
        "data = pd.read_csv('/content/drive/MyDrive/Trabajos U/Seminario BigData/cars/usedCarsCol_cx-30_200624.csv', sep=',', names=cols, header=0, encoding='latin-1')\n",
        "data.head()"
      ]
    },
    {
      "cell_type": "code",
      "source": [
        "# see data type from dataset columns\n",
        "data.info()"
      ],
      "metadata": {
        "colab": {
          "base_uri": "https://localhost:8080/"
        },
        "id": "D4skW2bAgaQy",
        "outputId": "4694820b-efe7-4ad9-e5a1-4438c3de0c25"
      },
      "id": "D4skW2bAgaQy",
      "execution_count": null,
      "outputs": [
        {
          "output_type": "stream",
          "name": "stdout",
          "text": [
            "<class 'pandas.core.frame.DataFrame'>\n",
            "RangeIndex: 336 entries, 0 to 335\n",
            "Data columns (total 6 columns):\n",
            " #   Column    Non-Null Count  Dtype  \n",
            "---  ------    --------------  -----  \n",
            " 0   model     336 non-null    object \n",
            " 1   price     336 non-null    object \n",
            " 2   year      336 non-null    int64  \n",
            " 3   kms       336 non-null    float64\n",
            " 4   color     319 non-null    object \n",
            " 5   fueltype  319 non-null    object \n",
            "dtypes: float64(1), int64(1), object(4)\n",
            "memory usage: 15.9+ KB\n"
          ]
        }
      ]
    },
    {
      "cell_type": "markdown",
      "id": "ca82276d",
      "metadata": {
        "id": "ca82276d"
      },
      "source": [
        "### Verify data types"
      ]
    },
    {
      "cell_type": "code",
      "execution_count": null,
      "id": "998860b5",
      "metadata": {
        "id": "998860b5",
        "outputId": "e48c985b-12ee-4ada-cc7f-d232b8007276",
        "colab": {
          "base_uri": "https://localhost:8080/"
        }
      },
      "outputs": [
        {
          "output_type": "execute_result",
          "data": {
            "text/plain": [
              "model        object\n",
              "price        object\n",
              "year          int64\n",
              "kms         float64\n",
              "color        object\n",
              "fueltype     object\n",
              "dtype: object"
            ]
          },
          "metadata": {},
          "execution_count": 5
        }
      ],
      "source": [
        "data.dtypes"
      ]
    },
    {
      "cell_type": "markdown",
      "id": "8dcab392",
      "metadata": {
        "id": "8dcab392"
      },
      "source": [
        "### Count unique values for each variable"
      ]
    },
    {
      "cell_type": "code",
      "execution_count": null,
      "id": "3034ca26",
      "metadata": {
        "id": "3034ca26",
        "outputId": "859dcf35-fa69-4873-f28d-86504819e400",
        "colab": {
          "base_uri": "https://localhost:8080/"
        }
      },
      "outputs": [
        {
          "output_type": "execute_result",
          "data": {
            "text/plain": [
              "model        83\n",
              "price       162\n",
              "year         10\n",
              "kms         179\n",
              "color         8\n",
              "fueltype      2\n",
              "dtype: int64"
            ]
          },
          "metadata": {},
          "execution_count": 6
        }
      ],
      "source": [
        "data.nunique()"
      ]
    },
    {
      "cell_type": "code",
      "execution_count": null,
      "id": "bad51e9a",
      "metadata": {
        "id": "bad51e9a",
        "outputId": "49188dcb-5502-4ec1-aa4b-03c4729be615",
        "colab": {
          "base_uri": "https://localhost:8080/"
        }
      },
      "outputs": [
        {
          "output_type": "stream",
          "name": "stdout",
          "text": [
            "['Mazda CX-30 2.0 Touring At', 'Mazda CX-30 2.0 Grand Touring', 'Mazda cx-50 2.5 Grand Touring Awd', 'Mazda CX-30 2.0 Grand Touring At', 'Mazda Cx-30 Touring 2.0 At Hibrida 2025 /127/jl', 'Mazda CX-30 GRAND TOURING 4X2 2500CC AT AA', 'Mazda CX-30 grand touring lx', 'Mazda CX-30 2.5 Grand Touring At', 'Mazda Cx-30 Grand Touring Hibrido 2.0 4x2 2025/mz127/vf', 'Mazda CX-30 TOURING 4X2 2000CC AT AA', 'Mazda CX-30 2.0 Grand Touring At Hibrido Ligero - Mhev', 'Mazda CX-30 TOURING 2.0 AUT 5P', 'Mazda Cx-30 Hibrida  2000cc At Aa', 'Mazda CX-30 2.5 Grand Touring Lx 4x4', 'Mazda CX-30 2.0 Grand Touring Mt', 'Mazda CX-30 2.0 Touring', 'Mazda Cx5 Touring 2,5l 4x2 2025/ Mz -30/ng', 'Mazda CX-30 2.5 Grand Touring Lx 4x2', 'Mazda CX-30 Gran Touring Lx AT 2022', 'Cx-30 Touring 2.0 At 4x2 /2025/mz 127/vf', 'Mazda Cx-30 Touring Hibrida At 2025 Mz/127/vf', 'Mazda Cx 5 Grand Touring 2.5l 4x2 At /mz K30/ng', 'Mazda CX-30 Gran Touring Lx HÃ\\xadbrida AT 2.0 2024', 'Mazda CX-30 Touring', 'Mazda Cx-30 Gt Mhev Lx 2.0 4x2 At 2025 /  Mz Kra 30 Mcc', 'Mazda cx-50 2.5 Grand Touring Lx Awd', 'Mazda CX-30 GRAND TOURING', 'Mazda Cx-30 Grand Touring Lx Hibrida At 2.0l / 170 / Lc', 'Mazda Cx-30 Grand Touring HÃ\\xadbrida 4x2 2.0', 'Mazda CX-30 2.5 Grand Touring', 'Mazda Cx-30 Touring 4x2 2.0 Hibrida 2025 / 170/ Cv', 'Mazda Cx-30 Prime 2000cc Mt Aa', 'Mazda CX-30 GRAN TOURING', 'Mazda CX-30 2.0 Grand Touring Lx At Hibrido Ligero - Mhev', 'Mazda CX-30 2.0 Prime', 'Mazda CX-30 Grand Touring', 'Mazda Cx-30 Hibrida Npm474', 'Mazda CX-30 2.0 Gt', 'Mazda CX-5 TOURING 2.0 AUTOMÃ\\x81TICA', 'Mazda Cx5 Touring AutomÃ¡tica', 'Mazda CX-30 Grand Touring LX Sec 2,5 4x4', 'Mazda CX-9 2.5 Grand Touring Lx', 'Mazda CX-30 2.0 Touring AutomÃ¡tica', 'Mazda CX-30 TOURING MT 2.0CC 4X2', 'Mazda Cx30 Grand Touring Hibrida 2025 New!!', 'Mazda CX-5 TOURING TP 2.5CC', 'Mazda CX-30 2.0 Grand touring Hibrido At', 'Mazda CX-5 2.5 Grand Touring Camioneta', 'Mazda CX-30 Grand Touring Hibrido', 'Mazda Cx30 Gran Touring 2.0 Hibrida At 2025 ', 'Mazda CX-90 Grand Touring Signature', 'Mazda CX-30 GRAND TOURING LX MHEV', 'Mazda CX-30 Grand Touring LX 2.5', 'Mazda CX-30 Grand Touring MHEV', 'Mazda CX-30 Grand Touring 2.5', 'Mazda CX-30 Grand Touring 2.0', 'Mazda CX-30 Grand Touring lx 2.0', 'Mazda CX-30 Touring MECANICA', 'Mazda CX-30 Gran Touring lx 2.0', 'Mazda CX-30 Touring 2.0', 'Mazda CX-30 gran touring 2.5', 'Mazda CX-30 TOURING 4X2 MT 2.0', 'Mazda CX-30 grand touring lx 2.5', 'Mazda CX-5 2.5 Grand Touring Lx Camioneta', 'Mazda CX-30 Grand Touring TP 2500cc CT TC FE', 'Mazda CX-30 Grand Touring At 2.0L', 'Mazda CX-30 GRAND TOURING MHEV 2.0 AUT 5P', 'Mazda CX-30 AWD  Grand Touring LX  2.5L', 'Mazda CX-30 GRAND TOURING MHEV', 'Mazda CX-30 HÃ\\xadbrida Grand Touring LX  2.0L', 'Mazda CX-30 Grand Touring LX HYBRID', 'Mazda Cx-9 4x4 Tp 3.7l 8ab Abs Sunroof 7 Puestos V6 24 Valve', 'Mazda CX-30 2.0 Tourig Hybrid', 'Mazda CX-30 Grand Touring Hibrid', 'Mazda CX-30 2.0 Prime At', 'Mazda CX-30 2.0 Touring Cuero At', 'Mazda CX-30 2.5 GRAND TOURING LX (MANTENIMIENTO EN CONCESIONARIO)', 'Mazda CX-30 2.5 Grand Touring 4X2', 'Mazda CX-3 2.0 Touring AutomÃ¡tica', 'Mazda CX-3 2.0 Grand Touring At', 'Mazda Cx-30 2.0 Grand Touring At Hibrido Ligero - Mhev', 'Mazda CX-30 CX30 GRAND TURING', ' ']\n",
            "['$96.900.000', '$110.000.000', '$186.600.000', '$102.000.000', '$118.990.000', '$99.000.000', '$121.900.000', '$100.000.000', '$134.450.000', '$99.900.000', '$103.000.000', '$134.000.000', '$104.900.000', '$97.000.000', '$122.900.000', '$92.800.000', '$106.000.000', '$115.000.000', '$95.300.000', '$109.000.000', '$107.000.000', '$159.150.000', '$112.000.000', '$117.000.000', '$108.900.000', '$99.990.000', '$111.700.000', '$126.000.000', '$169.000.000', '$124.900.000', '$86.900.000', '$141.050.000', '$186.350.000', '$104.990.000', '$114.990.000', '$123.990.000', '$118.000.000', '$91.990.000', '$103.900.000', '$141.550.000', '$130.470.000', '$111.000.000', '$101.000.000', '$130.400.000', '$124.000.000', '$96.300.000', '$117.900.000', '$121.000.000', '$87.800.000', '$98.500.000', '$89.000.000', '$91.000.000', '$87.000.000', '$106.500.000', '$111.900.000', '$109.900.000', '$123.000.000', '$92.900.000', '$98.900.000', '$107.100.000', '$130.000.000', '$119.900.000', '$124.990.000', '$97.500.000', '$120.000.000', '$98.000.000', '$114.500.000', '$97.200.000', '$84.000.000', '$137.000.000', '$112.900.000', '$127.500.000', '$94.900.000', '$125.000.000', '$112.500.000', '$108.930.000', '$114.900.000', '$92.000.000', '$88.000.000', '$88.990.000', '$90.000.000', '$89.500.000', '$80.000.000', '$105.000.000', '$95.000.000', '$93.000.000', '$108.000.000', '$126.900.000', '$78.900.000', '$114.800.000', '$101.900.000', '$91.500.000', '$116.900.000', '$100.900.000', '$150.000.000', '$93.900.000', '$97.900.000', '$113.900.000', '$87.990.000', '$130.950.000', '$90.990.000', '$91.900.000', '$102.900.000', '$137.900.000', '$93.800.000', '$120.900.000', '$117.500.000', '$115.900.000', '$95.900.000', '$130.450.000', '$282.650.000', '$112.200.000', '$134.500.000', '$83.000.000', '$114.000.000', '$105.900.000', '$127.900.000', '$94.000.000', '$123.900.000', '$116.000.000', '$90.900.000', '$113.000.000', '$119.500.000', '$107.900.000', '$101.800.000', '$138.900.000', '$119.000.000', '$150.500.000', '$115.150.000', '$114.400.000', '$139.800.000', '$282.600.000', '$145.000.000', '$96.500.000', '$129.900.000', '$122.000.000', '$149.800.000', '$96.800.000', '$99.500.000', '$115.800.000', '$100.500.000', '$41.900.000', '$116.300.000', '$105.500.000', '$94.500.000', '$103.500.000', '$112.990.000', '$102.500.000', '$104.800.000', '$67.500.000', '$131.000.000', '$83.900.000', '$84.900.000', '$89.990.000', '$124.500.000', '$69.000.000', '$107.990.000', '$119.990.000', '$85.000.000', '$109.800.000', '$82.700.000', '0']\n",
            "[2022, 2024, 2025, 2021, 2023, 2017, 2020, 2009, 2019, 0]\n",
            "[28.12, 48.622, 0.0, 32.0, 48.0, 35.46, 43.0, 16.0, 40.0, 19.8, 35.0, 14.6, 37.341, 29.291, 17.0, 33.259, 33.0, 14.323, 12.054, 24.0, 33.6, 37.5, 27.0, 15.5, 28.146, 5.999, 80.901, 52.734, 44.431, 25.124, 6.5, 34.6, 8.0, 4.8, 42.6, 12.0, 27.2, 60.0, 52.0, 59.1, 30.0, 27.7, 51.0, 26.406, 55.0, 9.0, 43.3, 31.921, 50.757, 11.375, 37.0, 59.5, 29.43, 33.5, 45.0, 16.7, 4.0, 36.45, 25.4, 22.0, 44.5, 19.0, 44.0, 46.0, 6.0, 4.5, 14.5, 14.4, 11.0, 15.0, 61.0, 23.5, 33.041, 42.0, 29.8, 23.4, 13.0, 36.0, 50.0, 63.0, 24.76, 18.5, 26.0, 27.65, 21.0, 16.8, 55.6, 55.7, 19.351, 91.0, 39.0, 34.0, 68.0, 14.7, 15.089, 24.3, 20.8, 62.3, 63.7, 30.5, 10.88, 7.001, 20.0, 24.85, 38.0, 32.568, 29.0, 37.037, 25.078, 69.629, 38.6, 10.5, 23.0, 67.522, 52.8, 57.0, 11.7, 68.5, 57.678, 56.5, 10.7, 40.6, 36.135, 17.4, 20.9, 66.3, 45.741, 35.6, 8.8, 24.5, 28.0, 59.0, 20.798, 7.4, 18.9, 36.7, 47.8, 14.0, 136.5, 21.4, 5.057, 35.4, 42.5, 54.0, 44.8, 37.7, 57.221, 36.75, 10.0, 36.066, 57.99, 60.713, 22.5, 28.504, 43.5, 23.58, 56.0, 45.2, 29.5, 30.8, 28.256, 40.7, 112.0, 23.584, 53.135, 26.52, 13.8, 28.5, 25.0, 26.5, 57.094, 45.335, 19.929, 54.097, 18.0, 5.8, 56.8, 21.94, 20.448]\n",
            "['Gris', 'Blanco', 'Rojo', 'Azul', 'Color not found', 'Plateado', 'Dorado', 'Negro', nan]\n",
            "['Gasolina', 'HÃ\\xadbrido', nan]\n"
          ]
        }
      ],
      "source": [
        "print(data['model'].unique().tolist())\n",
        "print(data['price'].unique().tolist())\n",
        "print(data['year'].unique().tolist())\n",
        "print(data['kms'].unique().tolist())\n",
        "print(data['color'].unique().tolist())\n",
        "print(data['fueltype'].unique().tolist())"
      ]
    },
    {
      "cell_type": "markdown",
      "id": "7e088992",
      "metadata": {
        "id": "7e088992"
      },
      "source": [
        "### Data transformation"
      ]
    },
    {
      "cell_type": "code",
      "execution_count": null,
      "id": "3ed603ae",
      "metadata": {
        "id": "3ed603ae",
        "outputId": "a20ea053-81c1-4915-b37b-197aaa5b8eb1",
        "colab": {
          "base_uri": "https://localhost:8080/"
        }
      },
      "outputs": [
        {
          "output_type": "execute_result",
          "data": {
            "text/plain": [
              "(336, 5)"
            ]
          },
          "metadata": {},
          "execution_count": 8
        }
      ],
      "source": [
        "# Copy data and remove model variable\n",
        "datacc = data\n",
        "datacc = datacc.drop(['model'], axis=1)\n",
        "datacc.shape"
      ]
    },
    {
      "cell_type": "markdown",
      "id": "ea74f1f1",
      "metadata": {
        "id": "ea74f1f1"
      },
      "source": [
        "#### Transform $price$ to numerical"
      ]
    },
    {
      "cell_type": "code",
      "source": [
        "datacc['price'] = datacc['price'].str.replace(r'[$.]', '', regex=True).astype(int)"
      ],
      "metadata": {
        "id": "1IOOPDbTT_gr"
      },
      "id": "1IOOPDbTT_gr",
      "execution_count": null,
      "outputs": []
    },
    {
      "cell_type": "markdown",
      "id": "74f3f278",
      "metadata": {
        "id": "74f3f278"
      },
      "source": [
        "##### Transform $kms$ to numerical"
      ]
    },
    {
      "cell_type": "code",
      "source": [
        "# remove regex string, the datatype kms is float not string.\n",
        "#datacc['kms'] = datacc['kms'].str.replace(r'[.]', '',regex=True).astype(int)\n",
        "datacc['kms'] = (datacc['kms']*1000).astype(int)\n",
        "datacc.info()\n",
        "datacc.head()"
      ],
      "metadata": {
        "colab": {
          "base_uri": "https://localhost:8080/",
          "height": 426
        },
        "id": "oElTIOYjVil1",
        "outputId": "30629fd5-795f-41e4-948e-0f03639ca8d2"
      },
      "id": "oElTIOYjVil1",
      "execution_count": null,
      "outputs": [
        {
          "output_type": "stream",
          "name": "stdout",
          "text": [
            "<class 'pandas.core.frame.DataFrame'>\n",
            "RangeIndex: 336 entries, 0 to 335\n",
            "Data columns (total 5 columns):\n",
            " #   Column    Non-Null Count  Dtype \n",
            "---  ------    --------------  ----- \n",
            " 0   price     336 non-null    int64 \n",
            " 1   year      336 non-null    int64 \n",
            " 2   kms       336 non-null    int64 \n",
            " 3   color     319 non-null    object\n",
            " 4   fueltype  319 non-null    object\n",
            "dtypes: int64(3), object(2)\n",
            "memory usage: 13.2+ KB\n"
          ]
        },
        {
          "output_type": "execute_result",
          "data": {
            "text/plain": [
              "       price  year    kms   color  fueltype\n",
              "0   96900000  2022  28120    Gris  Gasolina\n",
              "1  110000000  2022  48622  Blanco  Gasolina\n",
              "2  186600000  2024      0  Blanco  Gasolina\n",
              "3  102000000  2022  32000    Gris  Gasolina\n",
              "4  118990000  2025      0  Blanco  HÃ­brido"
            ],
            "text/html": [
              "\n",
              "  <div id=\"df-925e205f-6365-4c6d-8cb1-ca5a50751752\" class=\"colab-df-container\">\n",
              "    <div>\n",
              "<style scoped>\n",
              "    .dataframe tbody tr th:only-of-type {\n",
              "        vertical-align: middle;\n",
              "    }\n",
              "\n",
              "    .dataframe tbody tr th {\n",
              "        vertical-align: top;\n",
              "    }\n",
              "\n",
              "    .dataframe thead th {\n",
              "        text-align: right;\n",
              "    }\n",
              "</style>\n",
              "<table border=\"1\" class=\"dataframe\">\n",
              "  <thead>\n",
              "    <tr style=\"text-align: right;\">\n",
              "      <th></th>\n",
              "      <th>price</th>\n",
              "      <th>year</th>\n",
              "      <th>kms</th>\n",
              "      <th>color</th>\n",
              "      <th>fueltype</th>\n",
              "    </tr>\n",
              "  </thead>\n",
              "  <tbody>\n",
              "    <tr>\n",
              "      <th>0</th>\n",
              "      <td>96900000</td>\n",
              "      <td>2022</td>\n",
              "      <td>28120</td>\n",
              "      <td>Gris</td>\n",
              "      <td>Gasolina</td>\n",
              "    </tr>\n",
              "    <tr>\n",
              "      <th>1</th>\n",
              "      <td>110000000</td>\n",
              "      <td>2022</td>\n",
              "      <td>48622</td>\n",
              "      <td>Blanco</td>\n",
              "      <td>Gasolina</td>\n",
              "    </tr>\n",
              "    <tr>\n",
              "      <th>2</th>\n",
              "      <td>186600000</td>\n",
              "      <td>2024</td>\n",
              "      <td>0</td>\n",
              "      <td>Blanco</td>\n",
              "      <td>Gasolina</td>\n",
              "    </tr>\n",
              "    <tr>\n",
              "      <th>3</th>\n",
              "      <td>102000000</td>\n",
              "      <td>2022</td>\n",
              "      <td>32000</td>\n",
              "      <td>Gris</td>\n",
              "      <td>Gasolina</td>\n",
              "    </tr>\n",
              "    <tr>\n",
              "      <th>4</th>\n",
              "      <td>118990000</td>\n",
              "      <td>2025</td>\n",
              "      <td>0</td>\n",
              "      <td>Blanco</td>\n",
              "      <td>HÃ­brido</td>\n",
              "    </tr>\n",
              "  </tbody>\n",
              "</table>\n",
              "</div>\n",
              "    <div class=\"colab-df-buttons\">\n",
              "\n",
              "  <div class=\"colab-df-container\">\n",
              "    <button class=\"colab-df-convert\" onclick=\"convertToInteractive('df-925e205f-6365-4c6d-8cb1-ca5a50751752')\"\n",
              "            title=\"Convert this dataframe to an interactive table.\"\n",
              "            style=\"display:none;\">\n",
              "\n",
              "  <svg xmlns=\"http://www.w3.org/2000/svg\" height=\"24px\" viewBox=\"0 -960 960 960\">\n",
              "    <path d=\"M120-120v-720h720v720H120Zm60-500h600v-160H180v160Zm220 220h160v-160H400v160Zm0 220h160v-160H400v160ZM180-400h160v-160H180v160Zm440 0h160v-160H620v160ZM180-180h160v-160H180v160Zm440 0h160v-160H620v160Z\"/>\n",
              "  </svg>\n",
              "    </button>\n",
              "\n",
              "  <style>\n",
              "    .colab-df-container {\n",
              "      display:flex;\n",
              "      gap: 12px;\n",
              "    }\n",
              "\n",
              "    .colab-df-convert {\n",
              "      background-color: #E8F0FE;\n",
              "      border: none;\n",
              "      border-radius: 50%;\n",
              "      cursor: pointer;\n",
              "      display: none;\n",
              "      fill: #1967D2;\n",
              "      height: 32px;\n",
              "      padding: 0 0 0 0;\n",
              "      width: 32px;\n",
              "    }\n",
              "\n",
              "    .colab-df-convert:hover {\n",
              "      background-color: #E2EBFA;\n",
              "      box-shadow: 0px 1px 2px rgba(60, 64, 67, 0.3), 0px 1px 3px 1px rgba(60, 64, 67, 0.15);\n",
              "      fill: #174EA6;\n",
              "    }\n",
              "\n",
              "    .colab-df-buttons div {\n",
              "      margin-bottom: 4px;\n",
              "    }\n",
              "\n",
              "    [theme=dark] .colab-df-convert {\n",
              "      background-color: #3B4455;\n",
              "      fill: #D2E3FC;\n",
              "    }\n",
              "\n",
              "    [theme=dark] .colab-df-convert:hover {\n",
              "      background-color: #434B5C;\n",
              "      box-shadow: 0px 1px 3px 1px rgba(0, 0, 0, 0.15);\n",
              "      filter: drop-shadow(0px 1px 2px rgba(0, 0, 0, 0.3));\n",
              "      fill: #FFFFFF;\n",
              "    }\n",
              "  </style>\n",
              "\n",
              "    <script>\n",
              "      const buttonEl =\n",
              "        document.querySelector('#df-925e205f-6365-4c6d-8cb1-ca5a50751752 button.colab-df-convert');\n",
              "      buttonEl.style.display =\n",
              "        google.colab.kernel.accessAllowed ? 'block' : 'none';\n",
              "\n",
              "      async function convertToInteractive(key) {\n",
              "        const element = document.querySelector('#df-925e205f-6365-4c6d-8cb1-ca5a50751752');\n",
              "        const dataTable =\n",
              "          await google.colab.kernel.invokeFunction('convertToInteractive',\n",
              "                                                    [key], {});\n",
              "        if (!dataTable) return;\n",
              "\n",
              "        const docLinkHtml = 'Like what you see? Visit the ' +\n",
              "          '<a target=\"_blank\" href=https://colab.research.google.com/notebooks/data_table.ipynb>data table notebook</a>'\n",
              "          + ' to learn more about interactive tables.';\n",
              "        element.innerHTML = '';\n",
              "        dataTable['output_type'] = 'display_data';\n",
              "        await google.colab.output.renderOutput(dataTable, element);\n",
              "        const docLink = document.createElement('div');\n",
              "        docLink.innerHTML = docLinkHtml;\n",
              "        element.appendChild(docLink);\n",
              "      }\n",
              "    </script>\n",
              "  </div>\n",
              "\n",
              "\n",
              "<div id=\"df-6b0a9b7d-0cf4-4838-b2a3-3b47ddedd743\">\n",
              "  <button class=\"colab-df-quickchart\" onclick=\"quickchart('df-6b0a9b7d-0cf4-4838-b2a3-3b47ddedd743')\"\n",
              "            title=\"Suggest charts\"\n",
              "            style=\"display:none;\">\n",
              "\n",
              "<svg xmlns=\"http://www.w3.org/2000/svg\" height=\"24px\"viewBox=\"0 0 24 24\"\n",
              "     width=\"24px\">\n",
              "    <g>\n",
              "        <path d=\"M19 3H5c-1.1 0-2 .9-2 2v14c0 1.1.9 2 2 2h14c1.1 0 2-.9 2-2V5c0-1.1-.9-2-2-2zM9 17H7v-7h2v7zm4 0h-2V7h2v10zm4 0h-2v-4h2v4z\"/>\n",
              "    </g>\n",
              "</svg>\n",
              "  </button>\n",
              "\n",
              "<style>\n",
              "  .colab-df-quickchart {\n",
              "      --bg-color: #E8F0FE;\n",
              "      --fill-color: #1967D2;\n",
              "      --hover-bg-color: #E2EBFA;\n",
              "      --hover-fill-color: #174EA6;\n",
              "      --disabled-fill-color: #AAA;\n",
              "      --disabled-bg-color: #DDD;\n",
              "  }\n",
              "\n",
              "  [theme=dark] .colab-df-quickchart {\n",
              "      --bg-color: #3B4455;\n",
              "      --fill-color: #D2E3FC;\n",
              "      --hover-bg-color: #434B5C;\n",
              "      --hover-fill-color: #FFFFFF;\n",
              "      --disabled-bg-color: #3B4455;\n",
              "      --disabled-fill-color: #666;\n",
              "  }\n",
              "\n",
              "  .colab-df-quickchart {\n",
              "    background-color: var(--bg-color);\n",
              "    border: none;\n",
              "    border-radius: 50%;\n",
              "    cursor: pointer;\n",
              "    display: none;\n",
              "    fill: var(--fill-color);\n",
              "    height: 32px;\n",
              "    padding: 0;\n",
              "    width: 32px;\n",
              "  }\n",
              "\n",
              "  .colab-df-quickchart:hover {\n",
              "    background-color: var(--hover-bg-color);\n",
              "    box-shadow: 0 1px 2px rgba(60, 64, 67, 0.3), 0 1px 3px 1px rgba(60, 64, 67, 0.15);\n",
              "    fill: var(--button-hover-fill-color);\n",
              "  }\n",
              "\n",
              "  .colab-df-quickchart-complete:disabled,\n",
              "  .colab-df-quickchart-complete:disabled:hover {\n",
              "    background-color: var(--disabled-bg-color);\n",
              "    fill: var(--disabled-fill-color);\n",
              "    box-shadow: none;\n",
              "  }\n",
              "\n",
              "  .colab-df-spinner {\n",
              "    border: 2px solid var(--fill-color);\n",
              "    border-color: transparent;\n",
              "    border-bottom-color: var(--fill-color);\n",
              "    animation:\n",
              "      spin 1s steps(1) infinite;\n",
              "  }\n",
              "\n",
              "  @keyframes spin {\n",
              "    0% {\n",
              "      border-color: transparent;\n",
              "      border-bottom-color: var(--fill-color);\n",
              "      border-left-color: var(--fill-color);\n",
              "    }\n",
              "    20% {\n",
              "      border-color: transparent;\n",
              "      border-left-color: var(--fill-color);\n",
              "      border-top-color: var(--fill-color);\n",
              "    }\n",
              "    30% {\n",
              "      border-color: transparent;\n",
              "      border-left-color: var(--fill-color);\n",
              "      border-top-color: var(--fill-color);\n",
              "      border-right-color: var(--fill-color);\n",
              "    }\n",
              "    40% {\n",
              "      border-color: transparent;\n",
              "      border-right-color: var(--fill-color);\n",
              "      border-top-color: var(--fill-color);\n",
              "    }\n",
              "    60% {\n",
              "      border-color: transparent;\n",
              "      border-right-color: var(--fill-color);\n",
              "    }\n",
              "    80% {\n",
              "      border-color: transparent;\n",
              "      border-right-color: var(--fill-color);\n",
              "      border-bottom-color: var(--fill-color);\n",
              "    }\n",
              "    90% {\n",
              "      border-color: transparent;\n",
              "      border-bottom-color: var(--fill-color);\n",
              "    }\n",
              "  }\n",
              "</style>\n",
              "\n",
              "  <script>\n",
              "    async function quickchart(key) {\n",
              "      const quickchartButtonEl =\n",
              "        document.querySelector('#' + key + ' button');\n",
              "      quickchartButtonEl.disabled = true;  // To prevent multiple clicks.\n",
              "      quickchartButtonEl.classList.add('colab-df-spinner');\n",
              "      try {\n",
              "        const charts = await google.colab.kernel.invokeFunction(\n",
              "            'suggestCharts', [key], {});\n",
              "      } catch (error) {\n",
              "        console.error('Error during call to suggestCharts:', error);\n",
              "      }\n",
              "      quickchartButtonEl.classList.remove('colab-df-spinner');\n",
              "      quickchartButtonEl.classList.add('colab-df-quickchart-complete');\n",
              "    }\n",
              "    (() => {\n",
              "      let quickchartButtonEl =\n",
              "        document.querySelector('#df-6b0a9b7d-0cf4-4838-b2a3-3b47ddedd743 button');\n",
              "      quickchartButtonEl.style.display =\n",
              "        google.colab.kernel.accessAllowed ? 'block' : 'none';\n",
              "    })();\n",
              "  </script>\n",
              "</div>\n",
              "\n",
              "    </div>\n",
              "  </div>\n"
            ],
            "application/vnd.google.colaboratory.intrinsic+json": {
              "type": "dataframe",
              "variable_name": "datacc",
              "summary": "{\n  \"name\": \"datacc\",\n  \"rows\": 336,\n  \"fields\": [\n    {\n      \"column\": \"price\",\n      \"properties\": {\n        \"dtype\": \"number\",\n        \"std\": 31816264,\n        \"min\": 0,\n        \"max\": 282650000,\n        \"num_unique_values\": 162,\n        \"samples\": [\n          85000000,\n          130450000,\n          282600000\n        ],\n        \"semantic_type\": \"\",\n        \"description\": \"\"\n      }\n    },\n    {\n      \"column\": \"year\",\n      \"properties\": {\n        \"dtype\": \"number\",\n        \"std\": 443,\n        \"min\": 0,\n        \"max\": 2025,\n        \"num_unique_values\": 10,\n        \"samples\": [\n          2019,\n          2024,\n          2017\n        ],\n        \"semantic_type\": \"\",\n        \"description\": \"\"\n      }\n    },\n    {\n      \"column\": \"kms\",\n      \"properties\": {\n        \"dtype\": \"number\",\n        \"std\": 20402,\n        \"min\": 0,\n        \"max\": 136500,\n        \"num_unique_values\": 179,\n        \"samples\": [\n          50000,\n          33000,\n          4500\n        ],\n        \"semantic_type\": \"\",\n        \"description\": \"\"\n      }\n    },\n    {\n      \"column\": \"color\",\n      \"properties\": {\n        \"dtype\": \"category\",\n        \"num_unique_values\": 8,\n        \"samples\": [\n          \"Blanco\",\n          \"Plateado\",\n          \"Gris\"\n        ],\n        \"semantic_type\": \"\",\n        \"description\": \"\"\n      }\n    },\n    {\n      \"column\": \"fueltype\",\n      \"properties\": {\n        \"dtype\": \"category\",\n        \"num_unique_values\": 2,\n        \"samples\": [\n          \"H\\u00c3\\u00adbrido\",\n          \"Gasolina\"\n        ],\n        \"semantic_type\": \"\",\n        \"description\": \"\"\n      }\n    }\n  ]\n}"
            }
          },
          "metadata": {},
          "execution_count": 10
        }
      ]
    },
    {
      "cell_type": "code",
      "source": [
        "datacc.sort_values('kms', ascending=False)"
      ],
      "metadata": {
        "colab": {
          "base_uri": "https://localhost:8080/",
          "height": 423
        },
        "id": "2o1lqosmg8Rw",
        "outputId": "8313b5b7-9397-4f34-9124-850c8bbf68e7"
      },
      "id": "2o1lqosmg8Rw",
      "execution_count": null,
      "outputs": [
        {
          "output_type": "execute_result",
          "data": {
            "text/plain": [
              "         price  year     kms     color  fueltype\n",
              "238   41900000  2009  136500     Negro  Gasolina\n",
              "278   67500000  2017  112000      Gris  Gasolina\n",
              "119   98900000  2017   91000      Gris  Gasolina\n",
              "34    86900000  2021   80901      Rojo  Gasolina\n",
              "158   97000000  2021   69629  Plateado  Gasolina\n",
              "..         ...   ...     ...       ...       ...\n",
              "191  130450000  2024       0      Gris  HÃ­brido\n",
              "156  130950000  2025       0      Gris  HÃ­brido\n",
              "159  130450000  2025       0      Gris  HÃ­brido\n",
              "11   134000000  2024       0    Blanco  HÃ­brido\n",
              "335          0     0       0       NaN       NaN\n",
              "\n",
              "[336 rows x 5 columns]"
            ],
            "text/html": [
              "\n",
              "  <div id=\"df-9a580b3a-7e33-4ab5-bf05-efcc1ac8550a\" class=\"colab-df-container\">\n",
              "    <div>\n",
              "<style scoped>\n",
              "    .dataframe tbody tr th:only-of-type {\n",
              "        vertical-align: middle;\n",
              "    }\n",
              "\n",
              "    .dataframe tbody tr th {\n",
              "        vertical-align: top;\n",
              "    }\n",
              "\n",
              "    .dataframe thead th {\n",
              "        text-align: right;\n",
              "    }\n",
              "</style>\n",
              "<table border=\"1\" class=\"dataframe\">\n",
              "  <thead>\n",
              "    <tr style=\"text-align: right;\">\n",
              "      <th></th>\n",
              "      <th>price</th>\n",
              "      <th>year</th>\n",
              "      <th>kms</th>\n",
              "      <th>color</th>\n",
              "      <th>fueltype</th>\n",
              "    </tr>\n",
              "  </thead>\n",
              "  <tbody>\n",
              "    <tr>\n",
              "      <th>238</th>\n",
              "      <td>41900000</td>\n",
              "      <td>2009</td>\n",
              "      <td>136500</td>\n",
              "      <td>Negro</td>\n",
              "      <td>Gasolina</td>\n",
              "    </tr>\n",
              "    <tr>\n",
              "      <th>278</th>\n",
              "      <td>67500000</td>\n",
              "      <td>2017</td>\n",
              "      <td>112000</td>\n",
              "      <td>Gris</td>\n",
              "      <td>Gasolina</td>\n",
              "    </tr>\n",
              "    <tr>\n",
              "      <th>119</th>\n",
              "      <td>98900000</td>\n",
              "      <td>2017</td>\n",
              "      <td>91000</td>\n",
              "      <td>Gris</td>\n",
              "      <td>Gasolina</td>\n",
              "    </tr>\n",
              "    <tr>\n",
              "      <th>34</th>\n",
              "      <td>86900000</td>\n",
              "      <td>2021</td>\n",
              "      <td>80901</td>\n",
              "      <td>Rojo</td>\n",
              "      <td>Gasolina</td>\n",
              "    </tr>\n",
              "    <tr>\n",
              "      <th>158</th>\n",
              "      <td>97000000</td>\n",
              "      <td>2021</td>\n",
              "      <td>69629</td>\n",
              "      <td>Plateado</td>\n",
              "      <td>Gasolina</td>\n",
              "    </tr>\n",
              "    <tr>\n",
              "      <th>...</th>\n",
              "      <td>...</td>\n",
              "      <td>...</td>\n",
              "      <td>...</td>\n",
              "      <td>...</td>\n",
              "      <td>...</td>\n",
              "    </tr>\n",
              "    <tr>\n",
              "      <th>191</th>\n",
              "      <td>130450000</td>\n",
              "      <td>2024</td>\n",
              "      <td>0</td>\n",
              "      <td>Gris</td>\n",
              "      <td>HÃ­brido</td>\n",
              "    </tr>\n",
              "    <tr>\n",
              "      <th>156</th>\n",
              "      <td>130950000</td>\n",
              "      <td>2025</td>\n",
              "      <td>0</td>\n",
              "      <td>Gris</td>\n",
              "      <td>HÃ­brido</td>\n",
              "    </tr>\n",
              "    <tr>\n",
              "      <th>159</th>\n",
              "      <td>130450000</td>\n",
              "      <td>2025</td>\n",
              "      <td>0</td>\n",
              "      <td>Gris</td>\n",
              "      <td>HÃ­brido</td>\n",
              "    </tr>\n",
              "    <tr>\n",
              "      <th>11</th>\n",
              "      <td>134000000</td>\n",
              "      <td>2024</td>\n",
              "      <td>0</td>\n",
              "      <td>Blanco</td>\n",
              "      <td>HÃ­brido</td>\n",
              "    </tr>\n",
              "    <tr>\n",
              "      <th>335</th>\n",
              "      <td>0</td>\n",
              "      <td>0</td>\n",
              "      <td>0</td>\n",
              "      <td>NaN</td>\n",
              "      <td>NaN</td>\n",
              "    </tr>\n",
              "  </tbody>\n",
              "</table>\n",
              "<p>336 rows × 5 columns</p>\n",
              "</div>\n",
              "    <div class=\"colab-df-buttons\">\n",
              "\n",
              "  <div class=\"colab-df-container\">\n",
              "    <button class=\"colab-df-convert\" onclick=\"convertToInteractive('df-9a580b3a-7e33-4ab5-bf05-efcc1ac8550a')\"\n",
              "            title=\"Convert this dataframe to an interactive table.\"\n",
              "            style=\"display:none;\">\n",
              "\n",
              "  <svg xmlns=\"http://www.w3.org/2000/svg\" height=\"24px\" viewBox=\"0 -960 960 960\">\n",
              "    <path d=\"M120-120v-720h720v720H120Zm60-500h600v-160H180v160Zm220 220h160v-160H400v160Zm0 220h160v-160H400v160ZM180-400h160v-160H180v160Zm440 0h160v-160H620v160ZM180-180h160v-160H180v160Zm440 0h160v-160H620v160Z\"/>\n",
              "  </svg>\n",
              "    </button>\n",
              "\n",
              "  <style>\n",
              "    .colab-df-container {\n",
              "      display:flex;\n",
              "      gap: 12px;\n",
              "    }\n",
              "\n",
              "    .colab-df-convert {\n",
              "      background-color: #E8F0FE;\n",
              "      border: none;\n",
              "      border-radius: 50%;\n",
              "      cursor: pointer;\n",
              "      display: none;\n",
              "      fill: #1967D2;\n",
              "      height: 32px;\n",
              "      padding: 0 0 0 0;\n",
              "      width: 32px;\n",
              "    }\n",
              "\n",
              "    .colab-df-convert:hover {\n",
              "      background-color: #E2EBFA;\n",
              "      box-shadow: 0px 1px 2px rgba(60, 64, 67, 0.3), 0px 1px 3px 1px rgba(60, 64, 67, 0.15);\n",
              "      fill: #174EA6;\n",
              "    }\n",
              "\n",
              "    .colab-df-buttons div {\n",
              "      margin-bottom: 4px;\n",
              "    }\n",
              "\n",
              "    [theme=dark] .colab-df-convert {\n",
              "      background-color: #3B4455;\n",
              "      fill: #D2E3FC;\n",
              "    }\n",
              "\n",
              "    [theme=dark] .colab-df-convert:hover {\n",
              "      background-color: #434B5C;\n",
              "      box-shadow: 0px 1px 3px 1px rgba(0, 0, 0, 0.15);\n",
              "      filter: drop-shadow(0px 1px 2px rgba(0, 0, 0, 0.3));\n",
              "      fill: #FFFFFF;\n",
              "    }\n",
              "  </style>\n",
              "\n",
              "    <script>\n",
              "      const buttonEl =\n",
              "        document.querySelector('#df-9a580b3a-7e33-4ab5-bf05-efcc1ac8550a button.colab-df-convert');\n",
              "      buttonEl.style.display =\n",
              "        google.colab.kernel.accessAllowed ? 'block' : 'none';\n",
              "\n",
              "      async function convertToInteractive(key) {\n",
              "        const element = document.querySelector('#df-9a580b3a-7e33-4ab5-bf05-efcc1ac8550a');\n",
              "        const dataTable =\n",
              "          await google.colab.kernel.invokeFunction('convertToInteractive',\n",
              "                                                    [key], {});\n",
              "        if (!dataTable) return;\n",
              "\n",
              "        const docLinkHtml = 'Like what you see? Visit the ' +\n",
              "          '<a target=\"_blank\" href=https://colab.research.google.com/notebooks/data_table.ipynb>data table notebook</a>'\n",
              "          + ' to learn more about interactive tables.';\n",
              "        element.innerHTML = '';\n",
              "        dataTable['output_type'] = 'display_data';\n",
              "        await google.colab.output.renderOutput(dataTable, element);\n",
              "        const docLink = document.createElement('div');\n",
              "        docLink.innerHTML = docLinkHtml;\n",
              "        element.appendChild(docLink);\n",
              "      }\n",
              "    </script>\n",
              "  </div>\n",
              "\n",
              "\n",
              "<div id=\"df-64fc180f-1af0-41ff-8ca6-5be63a972900\">\n",
              "  <button class=\"colab-df-quickchart\" onclick=\"quickchart('df-64fc180f-1af0-41ff-8ca6-5be63a972900')\"\n",
              "            title=\"Suggest charts\"\n",
              "            style=\"display:none;\">\n",
              "\n",
              "<svg xmlns=\"http://www.w3.org/2000/svg\" height=\"24px\"viewBox=\"0 0 24 24\"\n",
              "     width=\"24px\">\n",
              "    <g>\n",
              "        <path d=\"M19 3H5c-1.1 0-2 .9-2 2v14c0 1.1.9 2 2 2h14c1.1 0 2-.9 2-2V5c0-1.1-.9-2-2-2zM9 17H7v-7h2v7zm4 0h-2V7h2v10zm4 0h-2v-4h2v4z\"/>\n",
              "    </g>\n",
              "</svg>\n",
              "  </button>\n",
              "\n",
              "<style>\n",
              "  .colab-df-quickchart {\n",
              "      --bg-color: #E8F0FE;\n",
              "      --fill-color: #1967D2;\n",
              "      --hover-bg-color: #E2EBFA;\n",
              "      --hover-fill-color: #174EA6;\n",
              "      --disabled-fill-color: #AAA;\n",
              "      --disabled-bg-color: #DDD;\n",
              "  }\n",
              "\n",
              "  [theme=dark] .colab-df-quickchart {\n",
              "      --bg-color: #3B4455;\n",
              "      --fill-color: #D2E3FC;\n",
              "      --hover-bg-color: #434B5C;\n",
              "      --hover-fill-color: #FFFFFF;\n",
              "      --disabled-bg-color: #3B4455;\n",
              "      --disabled-fill-color: #666;\n",
              "  }\n",
              "\n",
              "  .colab-df-quickchart {\n",
              "    background-color: var(--bg-color);\n",
              "    border: none;\n",
              "    border-radius: 50%;\n",
              "    cursor: pointer;\n",
              "    display: none;\n",
              "    fill: var(--fill-color);\n",
              "    height: 32px;\n",
              "    padding: 0;\n",
              "    width: 32px;\n",
              "  }\n",
              "\n",
              "  .colab-df-quickchart:hover {\n",
              "    background-color: var(--hover-bg-color);\n",
              "    box-shadow: 0 1px 2px rgba(60, 64, 67, 0.3), 0 1px 3px 1px rgba(60, 64, 67, 0.15);\n",
              "    fill: var(--button-hover-fill-color);\n",
              "  }\n",
              "\n",
              "  .colab-df-quickchart-complete:disabled,\n",
              "  .colab-df-quickchart-complete:disabled:hover {\n",
              "    background-color: var(--disabled-bg-color);\n",
              "    fill: var(--disabled-fill-color);\n",
              "    box-shadow: none;\n",
              "  }\n",
              "\n",
              "  .colab-df-spinner {\n",
              "    border: 2px solid var(--fill-color);\n",
              "    border-color: transparent;\n",
              "    border-bottom-color: var(--fill-color);\n",
              "    animation:\n",
              "      spin 1s steps(1) infinite;\n",
              "  }\n",
              "\n",
              "  @keyframes spin {\n",
              "    0% {\n",
              "      border-color: transparent;\n",
              "      border-bottom-color: var(--fill-color);\n",
              "      border-left-color: var(--fill-color);\n",
              "    }\n",
              "    20% {\n",
              "      border-color: transparent;\n",
              "      border-left-color: var(--fill-color);\n",
              "      border-top-color: var(--fill-color);\n",
              "    }\n",
              "    30% {\n",
              "      border-color: transparent;\n",
              "      border-left-color: var(--fill-color);\n",
              "      border-top-color: var(--fill-color);\n",
              "      border-right-color: var(--fill-color);\n",
              "    }\n",
              "    40% {\n",
              "      border-color: transparent;\n",
              "      border-right-color: var(--fill-color);\n",
              "      border-top-color: var(--fill-color);\n",
              "    }\n",
              "    60% {\n",
              "      border-color: transparent;\n",
              "      border-right-color: var(--fill-color);\n",
              "    }\n",
              "    80% {\n",
              "      border-color: transparent;\n",
              "      border-right-color: var(--fill-color);\n",
              "      border-bottom-color: var(--fill-color);\n",
              "    }\n",
              "    90% {\n",
              "      border-color: transparent;\n",
              "      border-bottom-color: var(--fill-color);\n",
              "    }\n",
              "  }\n",
              "</style>\n",
              "\n",
              "  <script>\n",
              "    async function quickchart(key) {\n",
              "      const quickchartButtonEl =\n",
              "        document.querySelector('#' + key + ' button');\n",
              "      quickchartButtonEl.disabled = true;  // To prevent multiple clicks.\n",
              "      quickchartButtonEl.classList.add('colab-df-spinner');\n",
              "      try {\n",
              "        const charts = await google.colab.kernel.invokeFunction(\n",
              "            'suggestCharts', [key], {});\n",
              "      } catch (error) {\n",
              "        console.error('Error during call to suggestCharts:', error);\n",
              "      }\n",
              "      quickchartButtonEl.classList.remove('colab-df-spinner');\n",
              "      quickchartButtonEl.classList.add('colab-df-quickchart-complete');\n",
              "    }\n",
              "    (() => {\n",
              "      let quickchartButtonEl =\n",
              "        document.querySelector('#df-64fc180f-1af0-41ff-8ca6-5be63a972900 button');\n",
              "      quickchartButtonEl.style.display =\n",
              "        google.colab.kernel.accessAllowed ? 'block' : 'none';\n",
              "    })();\n",
              "  </script>\n",
              "</div>\n",
              "\n",
              "    </div>\n",
              "  </div>\n"
            ],
            "application/vnd.google.colaboratory.intrinsic+json": {
              "type": "dataframe",
              "summary": "{\n  \"name\": \"datacc\",\n  \"rows\": 336,\n  \"fields\": [\n    {\n      \"column\": \"price\",\n      \"properties\": {\n        \"dtype\": \"number\",\n        \"std\": 31816264,\n        \"min\": 0,\n        \"max\": 282650000,\n        \"num_unique_values\": 162,\n        \"samples\": [\n          159150000,\n          119500000,\n          129900000\n        ],\n        \"semantic_type\": \"\",\n        \"description\": \"\"\n      }\n    },\n    {\n      \"column\": \"year\",\n      \"properties\": {\n        \"dtype\": \"number\",\n        \"std\": 443,\n        \"min\": 0,\n        \"max\": 2025,\n        \"num_unique_values\": 10,\n        \"samples\": [\n          2025,\n          2017,\n          2023\n        ],\n        \"semantic_type\": \"\",\n        \"description\": \"\"\n      }\n    },\n    {\n      \"column\": \"kms\",\n      \"properties\": {\n        \"dtype\": \"number\",\n        \"std\": 20402,\n        \"min\": 0,\n        \"max\": 136500,\n        \"num_unique_values\": 179,\n        \"samples\": [\n          34000,\n          59100,\n          37037\n        ],\n        \"semantic_type\": \"\",\n        \"description\": \"\"\n      }\n    },\n    {\n      \"column\": \"color\",\n      \"properties\": {\n        \"dtype\": \"category\",\n        \"num_unique_values\": 8,\n        \"samples\": [\n          \"Gris\",\n          \"Color not found\",\n          \"Negro\"\n        ],\n        \"semantic_type\": \"\",\n        \"description\": \"\"\n      }\n    },\n    {\n      \"column\": \"fueltype\",\n      \"properties\": {\n        \"dtype\": \"category\",\n        \"num_unique_values\": 2,\n        \"samples\": [\n          \"H\\u00c3\\u00adbrido\",\n          \"Gasolina\"\n        ],\n        \"semantic_type\": \"\",\n        \"description\": \"\"\n      }\n    }\n  ]\n}"
            }
          },
          "metadata": {},
          "execution_count": 12
        }
      ]
    },
    {
      "cell_type": "code",
      "source": [
        "# remove letter 'Publicado'\n",
        "datacc.replace({'kms': {'Publicado': 0}}, inplace=True)"
      ],
      "metadata": {
        "id": "TUhVzpp2W0PD"
      },
      "id": "TUhVzpp2W0PD",
      "execution_count": null,
      "outputs": []
    },
    {
      "cell_type": "code",
      "source": [
        "datacc['kms'] = datacc['kms'].replace('[.]','',regex=True).astype(int)"
      ],
      "metadata": {
        "id": "pszNNsMOX1wT"
      },
      "id": "pszNNsMOX1wT",
      "execution_count": null,
      "outputs": []
    },
    {
      "cell_type": "markdown",
      "source": [
        "##### Transform categorical variables to dummies: $year$ and $fuel type$"
      ],
      "metadata": {
        "id": "Jd3dLBdMfUnF"
      },
      "id": "Jd3dLBdMfUnF"
    },
    {
      "cell_type": "code",
      "execution_count": null,
      "id": "b782cd53",
      "metadata": {
        "id": "b782cd53",
        "outputId": "6b05e205-ec81-45d5-c639-9eeda6bbdd10",
        "colab": {
          "base_uri": "https://localhost:8080/"
        }
      },
      "outputs": [
        {
          "output_type": "execute_result",
          "data": {
            "text/plain": [
              "price          int64\n",
              "year           int64\n",
              "kms            int64\n",
              "color       category\n",
              "fueltype    category\n",
              "dtype: object"
            ]
          },
          "metadata": {},
          "execution_count": 15
        }
      ],
      "source": [
        "# Object to categorical\n",
        "datacc['color'] = datacc['color'].astype('category')\n",
        "datacc['fueltype'] = datacc['fueltype'].astype('category')\n",
        "datacc.dtypes"
      ]
    },
    {
      "cell_type": "code",
      "source": [
        "# Convert to dummies\n",
        "# Convert category to codes\n",
        "datacc['color']  = pd.Categorical(datacc['color']).codes\n",
        "datacc['fueltype']  = pd.Categorical(datacc['fueltype']).codes\n",
        "datacc.head()"
      ],
      "metadata": {
        "colab": {
          "base_uri": "https://localhost:8080/",
          "height": 251
        },
        "id": "eqgAwoIopDz9",
        "outputId": "967344d7-d52d-4145-b52a-66e608680351"
      },
      "id": "eqgAwoIopDz9",
      "execution_count": null,
      "outputs": [
        {
          "output_type": "execute_result",
          "data": {
            "text/plain": [
              "       price  year    kms  color  fueltype\n",
              "0   96900000  2022  28120      5         1\n",
              "1  110000000  2022  48622      2         1\n",
              "2  186600000  2024      0      2         1\n",
              "3  102000000  2022  32000      5         1\n",
              "4  118990000  2025      0      2         2"
            ],
            "text/html": [
              "\n",
              "  <div id=\"df-62de4400-50da-441c-8651-997c854086c3\" class=\"colab-df-container\">\n",
              "    <div>\n",
              "<style scoped>\n",
              "    .dataframe tbody tr th:only-of-type {\n",
              "        vertical-align: middle;\n",
              "    }\n",
              "\n",
              "    .dataframe tbody tr th {\n",
              "        vertical-align: top;\n",
              "    }\n",
              "\n",
              "    .dataframe thead th {\n",
              "        text-align: right;\n",
              "    }\n",
              "</style>\n",
              "<table border=\"1\" class=\"dataframe\">\n",
              "  <thead>\n",
              "    <tr style=\"text-align: right;\">\n",
              "      <th></th>\n",
              "      <th>price</th>\n",
              "      <th>year</th>\n",
              "      <th>kms</th>\n",
              "      <th>color</th>\n",
              "      <th>fueltype</th>\n",
              "    </tr>\n",
              "  </thead>\n",
              "  <tbody>\n",
              "    <tr>\n",
              "      <th>0</th>\n",
              "      <td>96900000</td>\n",
              "      <td>2022</td>\n",
              "      <td>28120</td>\n",
              "      <td>5</td>\n",
              "      <td>1</td>\n",
              "    </tr>\n",
              "    <tr>\n",
              "      <th>1</th>\n",
              "      <td>110000000</td>\n",
              "      <td>2022</td>\n",
              "      <td>48622</td>\n",
              "      <td>2</td>\n",
              "      <td>1</td>\n",
              "    </tr>\n",
              "    <tr>\n",
              "      <th>2</th>\n",
              "      <td>186600000</td>\n",
              "      <td>2024</td>\n",
              "      <td>0</td>\n",
              "      <td>2</td>\n",
              "      <td>1</td>\n",
              "    </tr>\n",
              "    <tr>\n",
              "      <th>3</th>\n",
              "      <td>102000000</td>\n",
              "      <td>2022</td>\n",
              "      <td>32000</td>\n",
              "      <td>5</td>\n",
              "      <td>1</td>\n",
              "    </tr>\n",
              "    <tr>\n",
              "      <th>4</th>\n",
              "      <td>118990000</td>\n",
              "      <td>2025</td>\n",
              "      <td>0</td>\n",
              "      <td>2</td>\n",
              "      <td>2</td>\n",
              "    </tr>\n",
              "  </tbody>\n",
              "</table>\n",
              "</div>\n",
              "    <div class=\"colab-df-buttons\">\n",
              "\n",
              "  <div class=\"colab-df-container\">\n",
              "    <button class=\"colab-df-convert\" onclick=\"convertToInteractive('df-62de4400-50da-441c-8651-997c854086c3')\"\n",
              "            title=\"Convert this dataframe to an interactive table.\"\n",
              "            style=\"display:none;\">\n",
              "\n",
              "  <svg xmlns=\"http://www.w3.org/2000/svg\" height=\"24px\" viewBox=\"0 -960 960 960\">\n",
              "    <path d=\"M120-120v-720h720v720H120Zm60-500h600v-160H180v160Zm220 220h160v-160H400v160Zm0 220h160v-160H400v160ZM180-400h160v-160H180v160Zm440 0h160v-160H620v160ZM180-180h160v-160H180v160Zm440 0h160v-160H620v160Z\"/>\n",
              "  </svg>\n",
              "    </button>\n",
              "\n",
              "  <style>\n",
              "    .colab-df-container {\n",
              "      display:flex;\n",
              "      gap: 12px;\n",
              "    }\n",
              "\n",
              "    .colab-df-convert {\n",
              "      background-color: #E8F0FE;\n",
              "      border: none;\n",
              "      border-radius: 50%;\n",
              "      cursor: pointer;\n",
              "      display: none;\n",
              "      fill: #1967D2;\n",
              "      height: 32px;\n",
              "      padding: 0 0 0 0;\n",
              "      width: 32px;\n",
              "    }\n",
              "\n",
              "    .colab-df-convert:hover {\n",
              "      background-color: #E2EBFA;\n",
              "      box-shadow: 0px 1px 2px rgba(60, 64, 67, 0.3), 0px 1px 3px 1px rgba(60, 64, 67, 0.15);\n",
              "      fill: #174EA6;\n",
              "    }\n",
              "\n",
              "    .colab-df-buttons div {\n",
              "      margin-bottom: 4px;\n",
              "    }\n",
              "\n",
              "    [theme=dark] .colab-df-convert {\n",
              "      background-color: #3B4455;\n",
              "      fill: #D2E3FC;\n",
              "    }\n",
              "\n",
              "    [theme=dark] .colab-df-convert:hover {\n",
              "      background-color: #434B5C;\n",
              "      box-shadow: 0px 1px 3px 1px rgba(0, 0, 0, 0.15);\n",
              "      filter: drop-shadow(0px 1px 2px rgba(0, 0, 0, 0.3));\n",
              "      fill: #FFFFFF;\n",
              "    }\n",
              "  </style>\n",
              "\n",
              "    <script>\n",
              "      const buttonEl =\n",
              "        document.querySelector('#df-62de4400-50da-441c-8651-997c854086c3 button.colab-df-convert');\n",
              "      buttonEl.style.display =\n",
              "        google.colab.kernel.accessAllowed ? 'block' : 'none';\n",
              "\n",
              "      async function convertToInteractive(key) {\n",
              "        const element = document.querySelector('#df-62de4400-50da-441c-8651-997c854086c3');\n",
              "        const dataTable =\n",
              "          await google.colab.kernel.invokeFunction('convertToInteractive',\n",
              "                                                    [key], {});\n",
              "        if (!dataTable) return;\n",
              "\n",
              "        const docLinkHtml = 'Like what you see? Visit the ' +\n",
              "          '<a target=\"_blank\" href=https://colab.research.google.com/notebooks/data_table.ipynb>data table notebook</a>'\n",
              "          + ' to learn more about interactive tables.';\n",
              "        element.innerHTML = '';\n",
              "        dataTable['output_type'] = 'display_data';\n",
              "        await google.colab.output.renderOutput(dataTable, element);\n",
              "        const docLink = document.createElement('div');\n",
              "        docLink.innerHTML = docLinkHtml;\n",
              "        element.appendChild(docLink);\n",
              "      }\n",
              "    </script>\n",
              "  </div>\n",
              "\n",
              "\n",
              "<div id=\"df-2358ac89-cd05-4cf5-a5ad-a9b93d0974d9\">\n",
              "  <button class=\"colab-df-quickchart\" onclick=\"quickchart('df-2358ac89-cd05-4cf5-a5ad-a9b93d0974d9')\"\n",
              "            title=\"Suggest charts\"\n",
              "            style=\"display:none;\">\n",
              "\n",
              "<svg xmlns=\"http://www.w3.org/2000/svg\" height=\"24px\"viewBox=\"0 0 24 24\"\n",
              "     width=\"24px\">\n",
              "    <g>\n",
              "        <path d=\"M19 3H5c-1.1 0-2 .9-2 2v14c0 1.1.9 2 2 2h14c1.1 0 2-.9 2-2V5c0-1.1-.9-2-2-2zM9 17H7v-7h2v7zm4 0h-2V7h2v10zm4 0h-2v-4h2v4z\"/>\n",
              "    </g>\n",
              "</svg>\n",
              "  </button>\n",
              "\n",
              "<style>\n",
              "  .colab-df-quickchart {\n",
              "      --bg-color: #E8F0FE;\n",
              "      --fill-color: #1967D2;\n",
              "      --hover-bg-color: #E2EBFA;\n",
              "      --hover-fill-color: #174EA6;\n",
              "      --disabled-fill-color: #AAA;\n",
              "      --disabled-bg-color: #DDD;\n",
              "  }\n",
              "\n",
              "  [theme=dark] .colab-df-quickchart {\n",
              "      --bg-color: #3B4455;\n",
              "      --fill-color: #D2E3FC;\n",
              "      --hover-bg-color: #434B5C;\n",
              "      --hover-fill-color: #FFFFFF;\n",
              "      --disabled-bg-color: #3B4455;\n",
              "      --disabled-fill-color: #666;\n",
              "  }\n",
              "\n",
              "  .colab-df-quickchart {\n",
              "    background-color: var(--bg-color);\n",
              "    border: none;\n",
              "    border-radius: 50%;\n",
              "    cursor: pointer;\n",
              "    display: none;\n",
              "    fill: var(--fill-color);\n",
              "    height: 32px;\n",
              "    padding: 0;\n",
              "    width: 32px;\n",
              "  }\n",
              "\n",
              "  .colab-df-quickchart:hover {\n",
              "    background-color: var(--hover-bg-color);\n",
              "    box-shadow: 0 1px 2px rgba(60, 64, 67, 0.3), 0 1px 3px 1px rgba(60, 64, 67, 0.15);\n",
              "    fill: var(--button-hover-fill-color);\n",
              "  }\n",
              "\n",
              "  .colab-df-quickchart-complete:disabled,\n",
              "  .colab-df-quickchart-complete:disabled:hover {\n",
              "    background-color: var(--disabled-bg-color);\n",
              "    fill: var(--disabled-fill-color);\n",
              "    box-shadow: none;\n",
              "  }\n",
              "\n",
              "  .colab-df-spinner {\n",
              "    border: 2px solid var(--fill-color);\n",
              "    border-color: transparent;\n",
              "    border-bottom-color: var(--fill-color);\n",
              "    animation:\n",
              "      spin 1s steps(1) infinite;\n",
              "  }\n",
              "\n",
              "  @keyframes spin {\n",
              "    0% {\n",
              "      border-color: transparent;\n",
              "      border-bottom-color: var(--fill-color);\n",
              "      border-left-color: var(--fill-color);\n",
              "    }\n",
              "    20% {\n",
              "      border-color: transparent;\n",
              "      border-left-color: var(--fill-color);\n",
              "      border-top-color: var(--fill-color);\n",
              "    }\n",
              "    30% {\n",
              "      border-color: transparent;\n",
              "      border-left-color: var(--fill-color);\n",
              "      border-top-color: var(--fill-color);\n",
              "      border-right-color: var(--fill-color);\n",
              "    }\n",
              "    40% {\n",
              "      border-color: transparent;\n",
              "      border-right-color: var(--fill-color);\n",
              "      border-top-color: var(--fill-color);\n",
              "    }\n",
              "    60% {\n",
              "      border-color: transparent;\n",
              "      border-right-color: var(--fill-color);\n",
              "    }\n",
              "    80% {\n",
              "      border-color: transparent;\n",
              "      border-right-color: var(--fill-color);\n",
              "      border-bottom-color: var(--fill-color);\n",
              "    }\n",
              "    90% {\n",
              "      border-color: transparent;\n",
              "      border-bottom-color: var(--fill-color);\n",
              "    }\n",
              "  }\n",
              "</style>\n",
              "\n",
              "  <script>\n",
              "    async function quickchart(key) {\n",
              "      const quickchartButtonEl =\n",
              "        document.querySelector('#' + key + ' button');\n",
              "      quickchartButtonEl.disabled = true;  // To prevent multiple clicks.\n",
              "      quickchartButtonEl.classList.add('colab-df-spinner');\n",
              "      try {\n",
              "        const charts = await google.colab.kernel.invokeFunction(\n",
              "            'suggestCharts', [key], {});\n",
              "      } catch (error) {\n",
              "        console.error('Error during call to suggestCharts:', error);\n",
              "      }\n",
              "      quickchartButtonEl.classList.remove('colab-df-spinner');\n",
              "      quickchartButtonEl.classList.add('colab-df-quickchart-complete');\n",
              "    }\n",
              "    (() => {\n",
              "      let quickchartButtonEl =\n",
              "        document.querySelector('#df-2358ac89-cd05-4cf5-a5ad-a9b93d0974d9 button');\n",
              "      quickchartButtonEl.style.display =\n",
              "        google.colab.kernel.accessAllowed ? 'block' : 'none';\n",
              "    })();\n",
              "  </script>\n",
              "</div>\n",
              "\n",
              "    </div>\n",
              "  </div>\n"
            ],
            "application/vnd.google.colaboratory.intrinsic+json": {
              "type": "dataframe",
              "variable_name": "datacc",
              "summary": "{\n  \"name\": \"datacc\",\n  \"rows\": 336,\n  \"fields\": [\n    {\n      \"column\": \"price\",\n      \"properties\": {\n        \"dtype\": \"number\",\n        \"std\": 31816264,\n        \"min\": 0,\n        \"max\": 282650000,\n        \"num_unique_values\": 162,\n        \"samples\": [\n          85000000,\n          130450000,\n          282600000\n        ],\n        \"semantic_type\": \"\",\n        \"description\": \"\"\n      }\n    },\n    {\n      \"column\": \"year\",\n      \"properties\": {\n        \"dtype\": \"number\",\n        \"std\": 443,\n        \"min\": 0,\n        \"max\": 2025,\n        \"num_unique_values\": 10,\n        \"samples\": [\n          2019,\n          2024,\n          2017\n        ],\n        \"semantic_type\": \"\",\n        \"description\": \"\"\n      }\n    },\n    {\n      \"column\": \"kms\",\n      \"properties\": {\n        \"dtype\": \"number\",\n        \"std\": 20402,\n        \"min\": 0,\n        \"max\": 136500,\n        \"num_unique_values\": 179,\n        \"samples\": [\n          50000,\n          33000,\n          4500\n        ],\n        \"semantic_type\": \"\",\n        \"description\": \"\"\n      }\n    },\n    {\n      \"column\": \"color\",\n      \"properties\": {\n        \"dtype\": \"int8\",\n        \"num_unique_values\": 9,\n        \"samples\": [\n          6,\n          2,\n          7\n        ],\n        \"semantic_type\": \"\",\n        \"description\": \"\"\n      }\n    },\n    {\n      \"column\": \"fueltype\",\n      \"properties\": {\n        \"dtype\": \"int8\",\n        \"num_unique_values\": 3,\n        \"samples\": [\n          1,\n          2,\n          0\n        ],\n        \"semantic_type\": \"\",\n        \"description\": \"\"\n      }\n    }\n  ]\n}"
            }
          },
          "metadata": {},
          "execution_count": 19
        }
      ]
    },
    {
      "cell_type": "markdown",
      "id": "d93d3610",
      "metadata": {
        "id": "d93d3610"
      },
      "source": [
        "## Data Exploration"
      ]
    },
    {
      "cell_type": "code",
      "execution_count": null,
      "id": "3ff4e61d",
      "metadata": {
        "id": "3ff4e61d",
        "outputId": "eb5db92a-de02-4bae-9164-076c13016306",
        "colab": {
          "base_uri": "https://localhost:8080/",
          "height": 300
        }
      },
      "outputs": [
        {
          "output_type": "execute_result",
          "data": {
            "text/plain": [
              "              price         year            kms\n",
              "count  3.360000e+02   336.000000     336.000000\n",
              "mean   1.044485e+08  1919.970238   29340.232143\n",
              "std    3.181626e+07   443.887769   20402.860791\n",
              "min    0.000000e+00     0.000000       0.000000\n",
              "25%    9.690000e+07  2021.000000   14500.000000\n",
              "50%    1.070000e+08  2022.000000   29465.000000\n",
              "75%    1.169000e+08  2023.000000   42700.000000\n",
              "max    2.826500e+08  2025.000000  136500.000000"
            ],
            "text/html": [
              "\n",
              "  <div id=\"df-33f3710e-1887-4c53-b5e9-30d06c020a8f\" class=\"colab-df-container\">\n",
              "    <div>\n",
              "<style scoped>\n",
              "    .dataframe tbody tr th:only-of-type {\n",
              "        vertical-align: middle;\n",
              "    }\n",
              "\n",
              "    .dataframe tbody tr th {\n",
              "        vertical-align: top;\n",
              "    }\n",
              "\n",
              "    .dataframe thead th {\n",
              "        text-align: right;\n",
              "    }\n",
              "</style>\n",
              "<table border=\"1\" class=\"dataframe\">\n",
              "  <thead>\n",
              "    <tr style=\"text-align: right;\">\n",
              "      <th></th>\n",
              "      <th>price</th>\n",
              "      <th>year</th>\n",
              "      <th>kms</th>\n",
              "    </tr>\n",
              "  </thead>\n",
              "  <tbody>\n",
              "    <tr>\n",
              "      <th>count</th>\n",
              "      <td>3.360000e+02</td>\n",
              "      <td>336.000000</td>\n",
              "      <td>336.000000</td>\n",
              "    </tr>\n",
              "    <tr>\n",
              "      <th>mean</th>\n",
              "      <td>1.044485e+08</td>\n",
              "      <td>1919.970238</td>\n",
              "      <td>29340.232143</td>\n",
              "    </tr>\n",
              "    <tr>\n",
              "      <th>std</th>\n",
              "      <td>3.181626e+07</td>\n",
              "      <td>443.887769</td>\n",
              "      <td>20402.860791</td>\n",
              "    </tr>\n",
              "    <tr>\n",
              "      <th>min</th>\n",
              "      <td>0.000000e+00</td>\n",
              "      <td>0.000000</td>\n",
              "      <td>0.000000</td>\n",
              "    </tr>\n",
              "    <tr>\n",
              "      <th>25%</th>\n",
              "      <td>9.690000e+07</td>\n",
              "      <td>2021.000000</td>\n",
              "      <td>14500.000000</td>\n",
              "    </tr>\n",
              "    <tr>\n",
              "      <th>50%</th>\n",
              "      <td>1.070000e+08</td>\n",
              "      <td>2022.000000</td>\n",
              "      <td>29465.000000</td>\n",
              "    </tr>\n",
              "    <tr>\n",
              "      <th>75%</th>\n",
              "      <td>1.169000e+08</td>\n",
              "      <td>2023.000000</td>\n",
              "      <td>42700.000000</td>\n",
              "    </tr>\n",
              "    <tr>\n",
              "      <th>max</th>\n",
              "      <td>2.826500e+08</td>\n",
              "      <td>2025.000000</td>\n",
              "      <td>136500.000000</td>\n",
              "    </tr>\n",
              "  </tbody>\n",
              "</table>\n",
              "</div>\n",
              "    <div class=\"colab-df-buttons\">\n",
              "\n",
              "  <div class=\"colab-df-container\">\n",
              "    <button class=\"colab-df-convert\" onclick=\"convertToInteractive('df-33f3710e-1887-4c53-b5e9-30d06c020a8f')\"\n",
              "            title=\"Convert this dataframe to an interactive table.\"\n",
              "            style=\"display:none;\">\n",
              "\n",
              "  <svg xmlns=\"http://www.w3.org/2000/svg\" height=\"24px\" viewBox=\"0 -960 960 960\">\n",
              "    <path d=\"M120-120v-720h720v720H120Zm60-500h600v-160H180v160Zm220 220h160v-160H400v160Zm0 220h160v-160H400v160ZM180-400h160v-160H180v160Zm440 0h160v-160H620v160ZM180-180h160v-160H180v160Zm440 0h160v-160H620v160Z\"/>\n",
              "  </svg>\n",
              "    </button>\n",
              "\n",
              "  <style>\n",
              "    .colab-df-container {\n",
              "      display:flex;\n",
              "      gap: 12px;\n",
              "    }\n",
              "\n",
              "    .colab-df-convert {\n",
              "      background-color: #E8F0FE;\n",
              "      border: none;\n",
              "      border-radius: 50%;\n",
              "      cursor: pointer;\n",
              "      display: none;\n",
              "      fill: #1967D2;\n",
              "      height: 32px;\n",
              "      padding: 0 0 0 0;\n",
              "      width: 32px;\n",
              "    }\n",
              "\n",
              "    .colab-df-convert:hover {\n",
              "      background-color: #E2EBFA;\n",
              "      box-shadow: 0px 1px 2px rgba(60, 64, 67, 0.3), 0px 1px 3px 1px rgba(60, 64, 67, 0.15);\n",
              "      fill: #174EA6;\n",
              "    }\n",
              "\n",
              "    .colab-df-buttons div {\n",
              "      margin-bottom: 4px;\n",
              "    }\n",
              "\n",
              "    [theme=dark] .colab-df-convert {\n",
              "      background-color: #3B4455;\n",
              "      fill: #D2E3FC;\n",
              "    }\n",
              "\n",
              "    [theme=dark] .colab-df-convert:hover {\n",
              "      background-color: #434B5C;\n",
              "      box-shadow: 0px 1px 3px 1px rgba(0, 0, 0, 0.15);\n",
              "      filter: drop-shadow(0px 1px 2px rgba(0, 0, 0, 0.3));\n",
              "      fill: #FFFFFF;\n",
              "    }\n",
              "  </style>\n",
              "\n",
              "    <script>\n",
              "      const buttonEl =\n",
              "        document.querySelector('#df-33f3710e-1887-4c53-b5e9-30d06c020a8f button.colab-df-convert');\n",
              "      buttonEl.style.display =\n",
              "        google.colab.kernel.accessAllowed ? 'block' : 'none';\n",
              "\n",
              "      async function convertToInteractive(key) {\n",
              "        const element = document.querySelector('#df-33f3710e-1887-4c53-b5e9-30d06c020a8f');\n",
              "        const dataTable =\n",
              "          await google.colab.kernel.invokeFunction('convertToInteractive',\n",
              "                                                    [key], {});\n",
              "        if (!dataTable) return;\n",
              "\n",
              "        const docLinkHtml = 'Like what you see? Visit the ' +\n",
              "          '<a target=\"_blank\" href=https://colab.research.google.com/notebooks/data_table.ipynb>data table notebook</a>'\n",
              "          + ' to learn more about interactive tables.';\n",
              "        element.innerHTML = '';\n",
              "        dataTable['output_type'] = 'display_data';\n",
              "        await google.colab.output.renderOutput(dataTable, element);\n",
              "        const docLink = document.createElement('div');\n",
              "        docLink.innerHTML = docLinkHtml;\n",
              "        element.appendChild(docLink);\n",
              "      }\n",
              "    </script>\n",
              "  </div>\n",
              "\n",
              "\n",
              "<div id=\"df-74573a04-6e5d-4772-a05d-a7ac43c9798e\">\n",
              "  <button class=\"colab-df-quickchart\" onclick=\"quickchart('df-74573a04-6e5d-4772-a05d-a7ac43c9798e')\"\n",
              "            title=\"Suggest charts\"\n",
              "            style=\"display:none;\">\n",
              "\n",
              "<svg xmlns=\"http://www.w3.org/2000/svg\" height=\"24px\"viewBox=\"0 0 24 24\"\n",
              "     width=\"24px\">\n",
              "    <g>\n",
              "        <path d=\"M19 3H5c-1.1 0-2 .9-2 2v14c0 1.1.9 2 2 2h14c1.1 0 2-.9 2-2V5c0-1.1-.9-2-2-2zM9 17H7v-7h2v7zm4 0h-2V7h2v10zm4 0h-2v-4h2v4z\"/>\n",
              "    </g>\n",
              "</svg>\n",
              "  </button>\n",
              "\n",
              "<style>\n",
              "  .colab-df-quickchart {\n",
              "      --bg-color: #E8F0FE;\n",
              "      --fill-color: #1967D2;\n",
              "      --hover-bg-color: #E2EBFA;\n",
              "      --hover-fill-color: #174EA6;\n",
              "      --disabled-fill-color: #AAA;\n",
              "      --disabled-bg-color: #DDD;\n",
              "  }\n",
              "\n",
              "  [theme=dark] .colab-df-quickchart {\n",
              "      --bg-color: #3B4455;\n",
              "      --fill-color: #D2E3FC;\n",
              "      --hover-bg-color: #434B5C;\n",
              "      --hover-fill-color: #FFFFFF;\n",
              "      --disabled-bg-color: #3B4455;\n",
              "      --disabled-fill-color: #666;\n",
              "  }\n",
              "\n",
              "  .colab-df-quickchart {\n",
              "    background-color: var(--bg-color);\n",
              "    border: none;\n",
              "    border-radius: 50%;\n",
              "    cursor: pointer;\n",
              "    display: none;\n",
              "    fill: var(--fill-color);\n",
              "    height: 32px;\n",
              "    padding: 0;\n",
              "    width: 32px;\n",
              "  }\n",
              "\n",
              "  .colab-df-quickchart:hover {\n",
              "    background-color: var(--hover-bg-color);\n",
              "    box-shadow: 0 1px 2px rgba(60, 64, 67, 0.3), 0 1px 3px 1px rgba(60, 64, 67, 0.15);\n",
              "    fill: var(--button-hover-fill-color);\n",
              "  }\n",
              "\n",
              "  .colab-df-quickchart-complete:disabled,\n",
              "  .colab-df-quickchart-complete:disabled:hover {\n",
              "    background-color: var(--disabled-bg-color);\n",
              "    fill: var(--disabled-fill-color);\n",
              "    box-shadow: none;\n",
              "  }\n",
              "\n",
              "  .colab-df-spinner {\n",
              "    border: 2px solid var(--fill-color);\n",
              "    border-color: transparent;\n",
              "    border-bottom-color: var(--fill-color);\n",
              "    animation:\n",
              "      spin 1s steps(1) infinite;\n",
              "  }\n",
              "\n",
              "  @keyframes spin {\n",
              "    0% {\n",
              "      border-color: transparent;\n",
              "      border-bottom-color: var(--fill-color);\n",
              "      border-left-color: var(--fill-color);\n",
              "    }\n",
              "    20% {\n",
              "      border-color: transparent;\n",
              "      border-left-color: var(--fill-color);\n",
              "      border-top-color: var(--fill-color);\n",
              "    }\n",
              "    30% {\n",
              "      border-color: transparent;\n",
              "      border-left-color: var(--fill-color);\n",
              "      border-top-color: var(--fill-color);\n",
              "      border-right-color: var(--fill-color);\n",
              "    }\n",
              "    40% {\n",
              "      border-color: transparent;\n",
              "      border-right-color: var(--fill-color);\n",
              "      border-top-color: var(--fill-color);\n",
              "    }\n",
              "    60% {\n",
              "      border-color: transparent;\n",
              "      border-right-color: var(--fill-color);\n",
              "    }\n",
              "    80% {\n",
              "      border-color: transparent;\n",
              "      border-right-color: var(--fill-color);\n",
              "      border-bottom-color: var(--fill-color);\n",
              "    }\n",
              "    90% {\n",
              "      border-color: transparent;\n",
              "      border-bottom-color: var(--fill-color);\n",
              "    }\n",
              "  }\n",
              "</style>\n",
              "\n",
              "  <script>\n",
              "    async function quickchart(key) {\n",
              "      const quickchartButtonEl =\n",
              "        document.querySelector('#' + key + ' button');\n",
              "      quickchartButtonEl.disabled = true;  // To prevent multiple clicks.\n",
              "      quickchartButtonEl.classList.add('colab-df-spinner');\n",
              "      try {\n",
              "        const charts = await google.colab.kernel.invokeFunction(\n",
              "            'suggestCharts', [key], {});\n",
              "      } catch (error) {\n",
              "        console.error('Error during call to suggestCharts:', error);\n",
              "      }\n",
              "      quickchartButtonEl.classList.remove('colab-df-spinner');\n",
              "      quickchartButtonEl.classList.add('colab-df-quickchart-complete');\n",
              "    }\n",
              "    (() => {\n",
              "      let quickchartButtonEl =\n",
              "        document.querySelector('#df-74573a04-6e5d-4772-a05d-a7ac43c9798e button');\n",
              "      quickchartButtonEl.style.display =\n",
              "        google.colab.kernel.accessAllowed ? 'block' : 'none';\n",
              "    })();\n",
              "  </script>\n",
              "</div>\n",
              "\n",
              "    </div>\n",
              "  </div>\n"
            ],
            "application/vnd.google.colaboratory.intrinsic+json": {
              "type": "dataframe",
              "summary": "{\n  \"name\": \"datacc\",\n  \"rows\": 8,\n  \"fields\": [\n    {\n      \"column\": \"price\",\n      \"properties\": {\n        \"dtype\": \"number\",\n        \"std\": 90962868.11359617,\n        \"min\": 0.0,\n        \"max\": 282650000.0,\n        \"num_unique_values\": 8,\n        \"samples\": [\n          104448541.66666667,\n          107000000.0,\n          336.0\n        ],\n        \"semantic_type\": \"\",\n        \"description\": \"\"\n      }\n    },\n    {\n      \"column\": \"year\",\n      \"properties\": {\n        \"dtype\": \"number\",\n        \"std\": 910.8057657698497,\n        \"min\": 0.0,\n        \"max\": 2025.0,\n        \"num_unique_values\": 8,\n        \"samples\": [\n          1919.970238095238,\n          2022.0,\n          336.0\n        ],\n        \"semantic_type\": \"\",\n        \"description\": \"\"\n      }\n    },\n    {\n      \"column\": \"kms\",\n      \"properties\": {\n        \"dtype\": \"number\",\n        \"std\": 43880.39471310657,\n        \"min\": 0.0,\n        \"max\": 136500.0,\n        \"num_unique_values\": 8,\n        \"samples\": [\n          29340.23214285714,\n          29465.0,\n          336.0\n        ],\n        \"semantic_type\": \"\",\n        \"description\": \"\"\n      }\n    }\n  ]\n}"
            }
          },
          "metadata": {},
          "execution_count": 17
        }
      ],
      "source": [
        "# Descriptive statistics\n",
        "datacc.describe()[['price','year','kms']]"
      ]
    },
    {
      "cell_type": "code",
      "source": [
        "#Find with value year = 0\n",
        "print(datacc[datacc['year'] == 0])\n"
      ],
      "metadata": {
        "colab": {
          "base_uri": "https://localhost:8080/"
        },
        "id": "BXHx4YSmCzbK",
        "outputId": "9d572674-76ba-4ae1-ba77-17786f8f4b5e"
      },
      "id": "BXHx4YSmCzbK",
      "execution_count": null,
      "outputs": [
        {
          "output_type": "stream",
          "name": "stdout",
          "text": [
            "     price  year  kms  color  fueltype\n",
            "319      0     0    0      0         0\n",
            "320      0     0    0      0         0\n",
            "321      0     0    0      0         0\n",
            "322      0     0    0      0         0\n",
            "323      0     0    0      0         0\n",
            "324      0     0    0      0         0\n",
            "325      0     0    0      0         0\n",
            "326      0     0    0      0         0\n",
            "327      0     0    0      0         0\n",
            "328      0     0    0      0         0\n",
            "329      0     0    0      0         0\n",
            "330      0     0    0      0         0\n",
            "331      0     0    0      0         0\n",
            "332      0     0    0      0         0\n",
            "333      0     0    0      0         0\n",
            "334      0     0    0      0         0\n",
            "335      0     0    0      0         0\n"
          ]
        }
      ]
    },
    {
      "cell_type": "code",
      "source": [
        "#Delete rows in new dataset with new values\n",
        "datacc = datacc[datacc['year'] != 0]\n",
        "#Verify unique values\n",
        "print(datacc['year'].unique().tolist())"
      ],
      "metadata": {
        "colab": {
          "base_uri": "https://localhost:8080/"
        },
        "id": "Ha-GLr7zEieC",
        "outputId": "bf374d40-b47c-4036-9720-88b5f2820195"
      },
      "id": "Ha-GLr7zEieC",
      "execution_count": null,
      "outputs": [
        {
          "output_type": "stream",
          "name": "stdout",
          "text": [
            "[2022, 2024, 2025, 2021, 2023, 2017, 2020, 2009, 2019]\n"
          ]
        }
      ]
    },
    {
      "cell_type": "markdown",
      "id": "c964a2f1",
      "metadata": {
        "id": "c964a2f1"
      },
      "source": [
        "#### Histograms"
      ]
    },
    {
      "cell_type": "code",
      "execution_count": null,
      "id": "f00a9d42",
      "metadata": {
        "id": "f00a9d42",
        "outputId": "2b047bf4-de6e-4cd0-8722-86b3ca98d848",
        "colab": {
          "base_uri": "https://localhost:8080/",
          "height": 957
        }
      },
      "outputs": [
        {
          "output_type": "stream",
          "name": "stderr",
          "text": [
            "<ipython-input-35-8d5fe7c9e008>:6: UserWarning: FixedFormatter should only be used together with FixedLocator\n",
            "  ax1.set_xticklabels(ax1.get_xticks(), rotation=45)\n",
            "<ipython-input-35-8d5fe7c9e008>:10: UserWarning: FixedFormatter should only be used together with FixedLocator\n",
            "  ax2.set_xticklabels(ax2.get_xticks(), rotation=45)\n",
            "<ipython-input-35-8d5fe7c9e008>:14: UserWarning: FixedFormatter should only be used together with FixedLocator\n",
            "  ax3.set_xticklabels(ax3.get_xticks(), rotation=45)\n"
          ]
        },
        {
          "output_type": "execute_result",
          "data": {
            "text/plain": [
              "[Text(-20000.0, 0, '-20000.0'),\n",
              " Text(0.0, 0, '0.0'),\n",
              " Text(20000.0, 0, '20000.0'),\n",
              " Text(40000.0, 0, '40000.0'),\n",
              " Text(60000.0, 0, '60000.0'),\n",
              " Text(80000.0, 0, '80000.0'),\n",
              " Text(100000.0, 0, '100000.0'),\n",
              " Text(120000.0, 0, '120000.0'),\n",
              " Text(140000.0, 0, '140000.0'),\n",
              " Text(160000.0, 0, '160000.0')]"
            ]
          },
          "metadata": {},
          "execution_count": 35
        },
        {
          "output_type": "display_data",
          "data": {
            "text/plain": [
              "<Figure size 1500x600 with 3 Axes>"
            ],
            "image/png": "[encoded data removed]"
          },
          "metadata": {}
        }
      ],
      "source": [
        "# Histograms\n",
        "fig, (ax1, ax2, ax3) = plt.subplots(1, 3, figsize=(15,6))\n",
        "fig.suptitle('Histograms for some variables')\n",
        "sns.histplot(datacc['price'], ax=ax1)\n",
        "ax1.set_title('$Price$')\n",
        "ax1.set_xticklabels(ax1.get_xticks(), rotation=45)\n",
        "\n",
        "sns.histplot(datacc['year'], ax=ax2)\n",
        "ax2.set_title('$Year$')\n",
        "ax2.set_xticklabels(ax2.get_xticks(), rotation=45)\n",
        "\n",
        "sns.histplot(datacc['kms'], ax=ax3)\n",
        "ax3.set_title('$kms$')\n",
        "ax3.set_xticklabels(ax3.get_xticks(), rotation=45)"
      ]
    },
    {
      "cell_type": "markdown",
      "id": "30509a3e",
      "metadata": {
        "id": "30509a3e"
      },
      "source": [
        "#### Boxplots"
      ]
    },
    {
      "cell_type": "code",
      "execution_count": null,
      "id": "8c26fc4d",
      "metadata": {
        "id": "8c26fc4d",
        "outputId": "47d34a09-e13d-4420-e382-278657a9bda0",
        "colab": {
          "base_uri": "https://localhost:8080/",
          "height": 513
        }
      },
      "outputs": [
        {
          "output_type": "execute_result",
          "data": {
            "text/plain": [
              "<Axes: >"
            ]
          },
          "metadata": {},
          "execution_count": 36
        },
        {
          "output_type": "display_data",
          "data": {
            "text/plain": [
              "<Figure size 1500x500 with 3 Axes>"
            ],
            "image/png": "[encoded data removed]"
          },
          "metadata": {}
        }
      ],
      "source": [
        "### Boxplot\n",
        "fig, (ax1, ax2, ax3) = plt.subplots(1, 3, figsize=(15,5))\n",
        "fig.suptitle('Boxplots for some variables')\n",
        "sns.boxplot(data=datacc[['price']], ax=ax1)\n",
        "sns.boxplot(data=datacc[['year']], ax=ax2)\n",
        "sns.boxplot(data=datacc[['kms']], ax=ax3)"
      ]
    },
    {
      "cell_type": "markdown",
      "id": "7c1de9a6",
      "metadata": {
        "id": "7c1de9a6"
      },
      "source": [
        "#### Ouliers treatment\n",
        "_https://www.statology.org/remove-outliers-python/_  \n",
        "_https://towardsdatascience.com/a-complete-guide-for-detecting-and-dealing-with-outliers-bad26b1e92b6_  \n",
        "_https://www.scribbr.com/statistics/outliers/_  \n",
        "_https://www.statology.org/remove-outliers/_  "
      ]
    },
    {
      "cell_type": "code",
      "execution_count": null,
      "id": "118fe4b4",
      "metadata": {
        "id": "118fe4b4",
        "outputId": "5c33a13d-150c-4ce1-be98-06689e20db1b",
        "colab": {
          "base_uri": "https://localhost:8080/",
          "height": 513
        }
      },
      "outputs": [
        {
          "output_type": "execute_result",
          "data": {
            "text/plain": [
              "<Axes: >"
            ]
          },
          "metadata": {},
          "execution_count": 40
        },
        {
          "output_type": "display_data",
          "data": {
            "text/plain": [
              "<Figure size 1500x500 with 3 Axes>"
            ],
            "image/png": "[encoded data removed]"
          },
          "metadata": {}
        }
      ],
      "source": [
        "# Z score to eliminate outliers of 'year' and 'kms'\n",
        "from scipy import stats\n",
        "\n",
        "#find absolute value of z-score for each observation of 'kms'\n",
        "z2 = np.abs(stats.zscore(datacc['kms']))\n",
        "\n",
        "#only keep rows in dataframe with all z-scores less than absolute value of 3\n",
        "toremove = datacc.kms[(z2>1)].index\n",
        "datacc = datacc.drop(toremove)\n",
        "\n",
        "fig, (ax1, ax2, ax3) = plt.subplots(1, 3, figsize=(15,5))\n",
        "fig.suptitle('Boxplots for some variables')\n",
        "sns.boxplot(data=datacc[['price']], ax=ax1)\n",
        "sns.boxplot(data=datacc[['year']], ax=ax2)\n",
        "sns.boxplot(data=datacc[['kms']], ax=ax3)"
      ]
    },
    {
      "cell_type": "code",
      "source": [
        "# Histograms\n",
        "fig, (ax1, ax2, ax3) = plt.subplots(1, 3, figsize=(15,6))\n",
        "fig.suptitle('Histograms for some variables')\n",
        "sns.histplot(datacc['price'], ax=ax1)\n",
        "ax1.set_title('$Price$')\n",
        "sns.histplot(datacc['year'], ax=ax2)\n",
        "ax2.set_title('$Year$')\n",
        "sns.histplot(datacc['kms'], ax=ax3)\n",
        "ax3.set_title('$kms$')"
      ],
      "metadata": {
        "colab": {
          "base_uri": "https://localhost:8080/",
          "height": 620
        },
        "id": "HhIWoCmEqgap",
        "outputId": "5172a4f5-d6b3-44d4-c838-f2e48a12f600"
      },
      "id": "HhIWoCmEqgap",
      "execution_count": null,
      "outputs": [
        {
          "output_type": "execute_result",
          "data": {
            "text/plain": [
              "Text(0.5, 1.0, '$kms$')"
            ]
          },
          "metadata": {},
          "execution_count": 41
        },
        {
          "output_type": "display_data",
          "data": {
            "text/plain": [
              "<Figure size 1500x600 with 3 Axes>"
            ],
            "image/png": "[encoded data removed]"
          },
          "metadata": {}
        }
      ]
    },
    {
      "cell_type": "markdown",
      "id": "a2190f9b",
      "metadata": {
        "id": "a2190f9b"
      },
      "source": [
        "### EDA (Exploratory Data Analysis)"
      ]
    },
    {
      "cell_type": "markdown",
      "id": "cf139630",
      "metadata": {
        "id": "cf139630"
      },
      "source": [
        "#### Correlations"
      ]
    },
    {
      "cell_type": "code",
      "execution_count": null,
      "id": "8c0f031a",
      "metadata": {
        "id": "8c0f031a",
        "outputId": "16046b1f-8550-44ca-9846-ea5b5d476171",
        "colab": {
          "base_uri": "https://localhost:8080/",
          "height": 1000
        }
      },
      "outputs": [
        {
          "output_type": "display_data",
          "data": {
            "text/plain": [
              "<Figure size 1500x1500 with 2 Axes>"
            ],
            "image/png": "[encoded data removed]"
          },
          "metadata": {}
        }
      ],
      "source": [
        "def correlation_heatmap(train):\n",
        "    correlations = train.corr()\n",
        "\n",
        "    fig, ax = plt.subplots(figsize=(15,15))\n",
        "    sns.heatmap(correlations, vmax=1.0, center=0, fmt='.2f', cmap=\"YlGnBu\",\n",
        "                square=True, linewidths=.2, annot=False, cbar_kws={\"shrink\": .95}\n",
        "                )\n",
        "    plt.show();\n",
        "\n",
        "correlation_heatmap(datacc[['year', 'kms']])"
      ]
    },
    {
      "cell_type": "code",
      "execution_count": null,
      "id": "6e23955d",
      "metadata": {
        "id": "6e23955d",
        "outputId": "a468b07b-b9c0-4f28-8055-2ad047a7f7e7",
        "colab": {
          "base_uri": "https://localhost:8080/",
          "height": 525
        }
      },
      "outputs": [
        {
          "output_type": "execute_result",
          "data": {
            "text/plain": [
              "<seaborn.axisgrid.PairGrid at 0x79f8832da440>"
            ]
          },
          "metadata": {},
          "execution_count": 44
        },
        {
          "output_type": "display_data",
          "data": {
            "text/plain": [
              "<Figure size 500x500 with 4 Axes>"
            ],
            "image/png": "[encoded data removed]"
          },
          "metadata": {}
        }
      ],
      "source": [
        "g = sns.PairGrid(datacc[['year', 'kms']])\n",
        "g.map(sns.scatterplot)"
      ]
    },
    {
      "cell_type": "markdown",
      "id": "b328b436",
      "metadata": {
        "id": "b328b436"
      },
      "source": [
        "## Modeling: machine learning"
      ]
    },
    {
      "cell_type": "markdown",
      "id": "c0cac588",
      "metadata": {
        "id": "c0cac588"
      },
      "source": [
        "### Libraries"
      ]
    },
    {
      "cell_type": "markdown",
      "source": [],
      "metadata": {
        "id": "v0VQ36eOxSeD"
      },
      "id": "v0VQ36eOxSeD"
    },
    {
      "cell_type": "code",
      "execution_count": null,
      "id": "e42a7a9f",
      "metadata": {
        "id": "e42a7a9f"
      },
      "outputs": [],
      "source": [
        "from sklearn.preprocessing import StandardScaler\n",
        "from sklearn.model_selection import train_test_split as split\n",
        "from sklearn.linear_model import LinearRegression\n",
        "from sklearn.metrics import mean_squared_error as MSE, r2_score\n",
        "from sklearn.metrics import mean_absolute_error as MAE\n",
        "import pickle"
      ]
    },
    {
      "cell_type": "markdown",
      "id": "cf09ba88",
      "metadata": {
        "id": "cf09ba88"
      },
      "source": [
        "### Data partitioning\n"
      ]
    },
    {
      "cell_type": "code",
      "execution_count": null,
      "id": "0ce7274b",
      "metadata": {
        "id": "0ce7274b",
        "outputId": "008340ee-b264-41de-810d-6f8ff5a67527",
        "colab": {
          "base_uri": "https://localhost:8080/"
        }
      },
      "outputs": [
        {
          "output_type": "stream",
          "name": "stdout",
          "text": [
            "(79, 4)\n",
            "(79,)\n"
          ]
        }
      ],
      "source": [
        "X = datacc.copy()\n",
        "X = X.drop(['price'], axis=1)\n",
        "print(X.shape)\n",
        "\n",
        "Y = pd.DataFrame()\n",
        "Y = datacc['price']\n",
        "print(Y.shape)"
      ]
    },
    {
      "cell_type": "code",
      "execution_count": null,
      "id": "d1c218b0",
      "metadata": {
        "id": "d1c218b0",
        "outputId": "0f0dbe24-2519-45da-8905-c9a4f165e7a8",
        "colab": {
          "base_uri": "https://localhost:8080/"
        }
      },
      "outputs": [
        {
          "output_type": "execute_result",
          "data": {
            "text/plain": [
              "(79, 4)"
            ]
          },
          "metadata": {},
          "execution_count": 47
        }
      ],
      "source": [
        "# Data set normalization and partitioning\n",
        "sc = StandardScaler()\n",
        "Xsc = sc.fit(X)\n",
        "Xt = Xsc.transform(X)\n",
        "Xt.shape"
      ]
    },
    {
      "cell_type": "code",
      "execution_count": null,
      "id": "b4a2dcc8",
      "metadata": {
        "id": "b4a2dcc8"
      },
      "outputs": [],
      "source": [
        "X_train, X_test, y_train, y_test = split(Xt,Y,\n",
        "                                         test_size=0.20,\n",
        "                                         random_state=42)"
      ]
    },
    {
      "cell_type": "markdown",
      "id": "a75c11f1",
      "metadata": {
        "id": "a75c11f1"
      },
      "source": [
        "### Multivariate lineal regression"
      ]
    },
    {
      "cell_type": "code",
      "execution_count": null,
      "id": "68141262",
      "metadata": {
        "id": "68141262"
      },
      "outputs": [],
      "source": [
        "# Define model and prediction\n",
        "ols = LinearRegression()\n",
        "model1 = ols.fit(X_train, y_train)\n",
        "y_pred1 = model1.predict(X_test)"
      ]
    },
    {
      "cell_type": "code",
      "execution_count": null,
      "id": "29763683",
      "metadata": {
        "id": "29763683",
        "outputId": "1a0a4b25-a4c8-4f57-b6d4-6f23f870c4d0",
        "colab": {
          "base_uri": "https://localhost:8080/"
        }
      },
      "outputs": [
        {
          "output_type": "stream",
          "name": "stdout",
          "text": [
            "RMSE: 10621371.83\n",
            "MAE: 8679832.34\n",
            "R2: 0.05\n"
          ]
        }
      ],
      "source": [
        "# accuracy check\n",
        "rmse = MSE(y_test, y_pred1, squared=False)\n",
        "mae = MAE(y_test, y_pred1)\n",
        "r2 = r2_score(y_test, y_pred1)\n",
        "print(\"RMSE: %.2f\" % rmse)\n",
        "print(\"MAE: %.2f\" % mae)\n",
        "print(\"R2: %.2f\" % r2)"
      ]
    },
    {
      "cell_type": "markdown",
      "id": "b98a2822",
      "metadata": {
        "id": "b98a2822"
      },
      "source": [
        "### Light GBM\n",
        "https://www.analyticsvidhya.com/blog/2021/08/complete-guide-on-how-to-use-lightgbm-in-python/   \n",
        "https://www.datatechnotes.com/2022/03/lightgbm-regression-example-in-python.html  "
      ]
    },
    {
      "cell_type": "code",
      "execution_count": null,
      "id": "9ae5d7a5",
      "metadata": {
        "id": "9ae5d7a5",
        "outputId": "ae707de3-7cab-4fc3-9227-c76052859a81",
        "colab": {
          "base_uri": "https://localhost:8080/"
        }
      },
      "outputs": [
        {
          "output_type": "stream",
          "name": "stdout",
          "text": [
            "Requirement already satisfied: lightgbm in /usr/local/lib/python3.10/dist-packages (4.1.0)\n",
            "Requirement already satisfied: numpy in /usr/local/lib/python3.10/dist-packages (from lightgbm) (1.25.2)\n",
            "Requirement already satisfied: scipy in /usr/local/lib/python3.10/dist-packages (from lightgbm) (1.11.4)\n"
          ]
        }
      ],
      "source": [
        "!pip install lightgbm"
      ]
    },
    {
      "cell_type": "code",
      "execution_count": null,
      "id": "8cc798fa",
      "metadata": {
        "id": "8cc798fa"
      },
      "outputs": [],
      "source": [
        "import lightgbm as lgb"
      ]
    },
    {
      "cell_type": "code",
      "execution_count": null,
      "id": "8742c9fb",
      "metadata": {
        "id": "8742c9fb",
        "colab": {
          "base_uri": "https://localhost:8080/"
        },
        "outputId": "499cd233-4c54-4eda-be82-f2e22707b5a7"
      },
      "outputs": [
        {
          "output_type": "stream",
          "name": "stdout",
          "text": [
            "[LightGBM] [Warning] No further splits with positive gain, best gain: -inf\n",
            "[LightGBM] [Warning] No further splits with positive gain, best gain: -inf\n",
            "[LightGBM] [Warning] No further splits with positive gain, best gain: -inf\n",
            "[LightGBM] [Warning] No further splits with positive gain, best gain: -inf\n",
            "[LightGBM] [Warning] No further splits with positive gain, best gain: -inf\n",
            "[LightGBM] [Warning] No further splits with positive gain, best gain: -inf\n",
            "[LightGBM] [Warning] No further splits with positive gain, best gain: -inf\n",
            "[LightGBM] [Warning] No further splits with positive gain, best gain: -inf\n",
            "[LightGBM] [Warning] No further splits with positive gain, best gain: -inf\n",
            "[LightGBM] [Warning] No further splits with positive gain, best gain: -inf\n",
            "[LightGBM] [Warning] No further splits with positive gain, best gain: -inf\n",
            "[LightGBM] [Warning] No further splits with positive gain, best gain: -inf\n",
            "[LightGBM] [Warning] No further splits with positive gain, best gain: -inf\n",
            "[LightGBM] [Warning] No further splits with positive gain, best gain: -inf\n",
            "[LightGBM] [Warning] No further splits with positive gain, best gain: -inf\n",
            "[LightGBM] [Warning] No further splits with positive gain, best gain: -inf\n",
            "[LightGBM] [Warning] No further splits with positive gain, best gain: -inf\n",
            "[LightGBM] [Warning] No further splits with positive gain, best gain: -inf\n",
            "[LightGBM] [Warning] No further splits with positive gain, best gain: -inf\n",
            "[LightGBM] [Warning] No further splits with positive gain, best gain: -inf\n",
            "[LightGBM] [Warning] No further splits with positive gain, best gain: -inf\n",
            "[LightGBM] [Warning] No further splits with positive gain, best gain: -inf\n",
            "[LightGBM] [Warning] No further splits with positive gain, best gain: -inf\n",
            "[LightGBM] [Warning] No further splits with positive gain, best gain: -inf\n",
            "[LightGBM] [Warning] No further splits with positive gain, best gain: -inf\n",
            "[LightGBM] [Warning] No further splits with positive gain, best gain: -inf\n",
            "[LightGBM] [Warning] No further splits with positive gain, best gain: -inf\n",
            "[LightGBM] [Warning] No further splits with positive gain, best gain: -inf\n",
            "[LightGBM] [Warning] No further splits with positive gain, best gain: -inf\n",
            "[LightGBM] [Warning] No further splits with positive gain, best gain: -inf\n",
            "[LightGBM] [Warning] No further splits with positive gain, best gain: -inf\n",
            "[LightGBM] [Warning] No further splits with positive gain, best gain: -inf\n",
            "[LightGBM] [Warning] No further splits with positive gain, best gain: -inf\n",
            "[LightGBM] [Warning] No further splits with positive gain, best gain: -inf\n",
            "[LightGBM] [Warning] No further splits with positive gain, best gain: -inf\n",
            "[LightGBM] [Warning] No further splits with positive gain, best gain: -inf\n",
            "[LightGBM] [Warning] No further splits with positive gain, best gain: -inf\n",
            "[LightGBM] [Warning] No further splits with positive gain, best gain: -inf\n",
            "[LightGBM] [Warning] No further splits with positive gain, best gain: -inf\n",
            "[LightGBM] [Warning] No further splits with positive gain, best gain: -inf\n",
            "[LightGBM] [Warning] No further splits with positive gain, best gain: -inf\n",
            "[LightGBM] [Warning] No further splits with positive gain, best gain: -inf\n",
            "[LightGBM] [Warning] No further splits with positive gain, best gain: -inf\n",
            "[LightGBM] [Warning] No further splits with positive gain, best gain: -inf\n",
            "[LightGBM] [Warning] No further splits with positive gain, best gain: -inf\n",
            "[LightGBM] [Warning] No further splits with positive gain, best gain: -inf\n",
            "[LightGBM] [Warning] No further splits with positive gain, best gain: -inf\n",
            "[LightGBM] [Warning] No further splits with positive gain, best gain: -inf\n",
            "[LightGBM] [Warning] No further splits with positive gain, best gain: -inf\n",
            "[LightGBM] [Warning] No further splits with positive gain, best gain: -inf\n",
            "[LightGBM] [Warning] No further splits with positive gain, best gain: -inf\n",
            "[LightGBM] [Warning] No further splits with positive gain, best gain: -inf\n",
            "[LightGBM] [Warning] No further splits with positive gain, best gain: -inf\n",
            "[LightGBM] [Warning] No further splits with positive gain, best gain: -inf\n",
            "[LightGBM] [Warning] No further splits with positive gain, best gain: -inf\n",
            "[LightGBM] [Warning] No further splits with positive gain, best gain: -inf\n",
            "[LightGBM] [Warning] No further splits with positive gain, best gain: -inf\n",
            "[LightGBM] [Warning] No further splits with positive gain, best gain: -inf\n",
            "[LightGBM] [Warning] No further splits with positive gain, best gain: -inf\n",
            "[LightGBM] [Warning] No further splits with positive gain, best gain: -inf\n",
            "[LightGBM] [Warning] No further splits with positive gain, best gain: -inf\n",
            "[LightGBM] [Warning] No further splits with positive gain, best gain: -inf\n",
            "[LightGBM] [Warning] No further splits with positive gain, best gain: -inf\n",
            "[LightGBM] [Warning] No further splits with positive gain, best gain: -inf\n",
            "[LightGBM] [Warning] No further splits with positive gain, best gain: -inf\n",
            "[LightGBM] [Warning] No further splits with positive gain, best gain: -inf\n",
            "[LightGBM] [Warning] No further splits with positive gain, best gain: -inf\n",
            "[LightGBM] [Warning] No further splits with positive gain, best gain: -inf\n",
            "[LightGBM] [Warning] No further splits with positive gain, best gain: -inf\n",
            "[LightGBM] [Warning] No further splits with positive gain, best gain: -inf\n",
            "[LightGBM] [Warning] No further splits with positive gain, best gain: -inf\n",
            "[LightGBM] [Warning] No further splits with positive gain, best gain: -inf\n",
            "[LightGBM] [Warning] No further splits with positive gain, best gain: -inf\n",
            "[LightGBM] [Warning] No further splits with positive gain, best gain: -inf\n",
            "[LightGBM] [Warning] No further splits with positive gain, best gain: -inf\n",
            "[LightGBM] [Warning] No further splits with positive gain, best gain: -inf\n",
            "[LightGBM] [Warning] No further splits with positive gain, best gain: -inf\n",
            "[LightGBM] [Warning] No further splits with positive gain, best gain: -inf\n",
            "[LightGBM] [Warning] No further splits with positive gain, best gain: -inf\n",
            "[LightGBM] [Warning] No further splits with positive gain, best gain: -inf\n",
            "[LightGBM] [Warning] No further splits with positive gain, best gain: -inf\n",
            "[LightGBM] [Warning] No further splits with positive gain, best gain: -inf\n",
            "[LightGBM] [Warning] No further splits with positive gain, best gain: -inf\n",
            "[LightGBM] [Warning] No further splits with positive gain, best gain: -inf\n",
            "[LightGBM] [Warning] No further splits with positive gain, best gain: -inf\n",
            "[LightGBM] [Warning] No further splits with positive gain, best gain: -inf\n",
            "[LightGBM] [Warning] No further splits with positive gain, best gain: -inf\n",
            "[LightGBM] [Warning] No further splits with positive gain, best gain: -inf\n",
            "[LightGBM] [Warning] No further splits with positive gain, best gain: -inf\n",
            "[LightGBM] [Warning] No further splits with positive gain, best gain: -inf\n",
            "[LightGBM] [Warning] No further splits with positive gain, best gain: -inf\n",
            "[LightGBM] [Warning] No further splits with positive gain, best gain: -inf\n",
            "[LightGBM] [Warning] No further splits with positive gain, best gain: -inf\n",
            "[LightGBM] [Warning] No further splits with positive gain, best gain: -inf\n",
            "[LightGBM] [Warning] No further splits with positive gain, best gain: -inf\n",
            "[LightGBM] [Warning] No further splits with positive gain, best gain: -inf\n",
            "[LightGBM] [Warning] No further splits with positive gain, best gain: -inf\n",
            "[LightGBM] [Warning] No further splits with positive gain, best gain: -inf\n",
            "[LightGBM] [Warning] No further splits with positive gain, best gain: -inf\n",
            "[LightGBM] [Warning] No further splits with positive gain, best gain: -inf\n"
          ]
        }
      ],
      "source": [
        "# Hyperparameters\n",
        "params = {\n",
        "    'task': 'train',\n",
        "    'boosting': 'gbdt',\n",
        "    'objective': 'regression',\n",
        "    'num_leaves': 10,\n",
        "    'learning_rate': 0.05,\n",
        "    'metric': {'l2','l1'},\n",
        "    'header' : 'true',\n",
        "    'verbose': 0\n",
        "}\n",
        "\n",
        "# laoding data\n",
        "lgb_train = lgb.Dataset(X_train, y_train)\n",
        "lgb_eval = lgb.Dataset(X_test, y_test, reference=lgb_train)\n",
        "\n",
        "# fitting the model\n",
        "model2 = lgb.train(params,\n",
        "                 train_set=lgb_train,\n",
        "                 valid_sets=lgb_eval)\n",
        "# Pred\n",
        "y_pred2 = model2.predict(X_test)"
      ]
    },
    {
      "cell_type": "code",
      "execution_count": null,
      "id": "future-recruitment",
      "metadata": {
        "id": "future-recruitment",
        "outputId": "9e3e83a9-1016-4627-cb80-85037c7557d9",
        "colab": {
          "base_uri": "https://localhost:8080/"
        }
      },
      "outputs": [
        {
          "output_type": "stream",
          "name": "stdout",
          "text": [
            "RMSE: 12218159.88\n",
            "MAE: 9841394.69\n",
            "R2: -0.26\n"
          ]
        }
      ],
      "source": [
        "# accuracy check\n",
        "rmse = MSE(y_test, y_pred2, squared=False)\n",
        "mae = MAE(y_test, y_pred2)\n",
        "r2 = r2_score(y_test, y_pred2)\n",
        "print(\"RMSE: %.2f\" % rmse)\n",
        "print(\"MAE: %.2f\" % mae)\n",
        "print(\"R2: %.2f\" % r2)"
      ]
    },
    {
      "cell_type": "code",
      "execution_count": null,
      "id": "35d67d4f",
      "metadata": {
        "id": "35d67d4f",
        "outputId": "e8c918bd-2d03-4464-d9a0-e2ecc9595ade",
        "colab": {
          "base_uri": "https://localhost:8080/",
          "height": 564
        }
      },
      "outputs": [
        {
          "output_type": "display_data",
          "data": {
            "text/plain": [
              "<Figure size 1200x600 with 1 Axes>"
            ],
            "image/png": "[encoded data removed]"
          },
          "metadata": {}
        }
      ],
      "source": [
        "# visualizing in a plot\n",
        "x_ax = range(len(y_test))\n",
        "plt.figure(figsize=(12, 6))\n",
        "plt.plot(x_ax, y_test, label=\"original\")\n",
        "plt.plot(x_ax, y_pred2, label=\"predicted\")\n",
        "plt.title(\"Original and predicted car prices\")\n",
        "plt.xlabel('X')\n",
        "plt.ylabel('Price')\n",
        "plt.legend(loc='best', fancybox=True, shadow=True)\n",
        "plt.grid(True)\n",
        "plt.show()"
      ]
    },
    {
      "cell_type": "code",
      "execution_count": null,
      "id": "6a4ef815",
      "metadata": {
        "id": "6a4ef815",
        "outputId": "261f4f83-20a5-4182-f6ac-1d1aa2d62326",
        "colab": {
          "base_uri": "https://localhost:8080/",
          "height": 472
        }
      },
      "outputs": [
        {
          "output_type": "display_data",
          "data": {
            "text/plain": [
              "<Figure size 640x480 with 1 Axes>"
            ],
            "image/png": "[encoded data removed]"
          },
          "metadata": {}
        }
      ],
      "source": [
        "# plotting feature importance\n",
        "ax = lgb.plot_importance(model2, height=.5, title=\"LightGBM Feature Importance\")\n"
      ]
    },
    {
      "cell_type": "code",
      "execution_count": null,
      "id": "cd3c6abe",
      "metadata": {
        "id": "cd3c6abe",
        "outputId": "d922e7ca-66ab-4551-d280-e93a21ba367a",
        "colab": {
          "base_uri": "https://localhost:8080/",
          "height": 426
        }
      },
      "outputs": [
        {
          "output_type": "execute_result",
          "data": {
            "text/plain": [
              "<Axes: >"
            ]
          },
          "metadata": {},
          "execution_count": 58
        },
        {
          "output_type": "display_data",
          "data": {
            "text/plain": [
              "<Figure size 3000x4000 with 1 Axes>"
            ],
            "image/png": "[encoded data removed]"
          },
          "metadata": {}
        }
      ],
      "source": [
        "lgb.plot_tree(model2,figsize=(30,40))"
      ]
    },
    {
      "cell_type": "markdown",
      "id": "9bf1253e",
      "metadata": {
        "id": "9bf1253e"
      },
      "source": [
        "### Random Forest Regressor"
      ]
    },
    {
      "cell_type": "code",
      "execution_count": null,
      "id": "2aedaac1",
      "metadata": {
        "id": "2aedaac1"
      },
      "outputs": [],
      "source": [
        "from sklearn.ensemble import RandomForestRegressor"
      ]
    },
    {
      "cell_type": "code",
      "execution_count": null,
      "id": "0adbba9f",
      "metadata": {
        "id": "0adbba9f"
      },
      "outputs": [],
      "source": [
        "model3 = RandomForestRegressor()\n",
        "model3.fit(X_train, y_train)\n",
        "y_pred3 = model3.predict(X_test)"
      ]
    },
    {
      "cell_type": "code",
      "execution_count": null,
      "id": "sunset-killer",
      "metadata": {
        "id": "sunset-killer",
        "outputId": "e072b690-1975-46fd-eee0-0d18a6fe1574",
        "colab": {
          "base_uri": "https://localhost:8080/"
        }
      },
      "outputs": [
        {
          "output_type": "stream",
          "name": "stdout",
          "text": [
            "RMSE: 13227932.89\n",
            "MAE: 10245314.58\n",
            "R2: -0.47\n"
          ]
        }
      ],
      "source": [
        "# accuracy check\n",
        "rmse = MSE(y_test, y_pred3, squared=False)\n",
        "mae = MAE(y_test, y_pred3)\n",
        "r2 = r2_score(y_test, y_pred3)\n",
        "print(\"RMSE: %.2f\" % rmse)\n",
        "print(\"MAE: %.2f\" % mae)\n",
        "print(\"R2: %.2f\" % r2)"
      ]
    },
    {
      "cell_type": "markdown",
      "source": [
        "**Save the model**"
      ],
      "metadata": {
        "id": "qx5ZKifXyIsI"
      },
      "id": "qx5ZKifXyIsI"
    },
    {
      "cell_type": "code",
      "source": [
        "with open('model3.pkl', 'wb') as f:\n",
        "  pickle.dump(model3, f)"
      ],
      "metadata": {
        "id": "N_LGgW4byL1H"
      },
      "id": "N_LGgW4byL1H",
      "execution_count": null,
      "outputs": []
    },
    {
      "cell_type": "markdown",
      "id": "b10c4f5a",
      "metadata": {
        "id": "b10c4f5a"
      },
      "source": [
        "### Xgboost regressor\n",
        "https://www.datatechnotes.com/2019/06/regression-example-with-xgbregressor-in.html"
      ]
    },
    {
      "cell_type": "code",
      "execution_count": null,
      "id": "457560d3",
      "metadata": {
        "id": "457560d3"
      },
      "outputs": [],
      "source": [
        "from sklearn.model_selection import cross_val_score, KFold\n",
        "import xgboost as xgb\n",
        "from sklearn.metrics import classification_report"
      ]
    },
    {
      "cell_type": "code",
      "execution_count": null,
      "id": "c0212d2b",
      "metadata": {
        "id": "c0212d2b"
      },
      "outputs": [],
      "source": [
        "#Define model\n",
        "model4 = xgb.XGBRegressor(objective ='reg:squarederror',\n",
        "                          booster='gbtree',\n",
        "                          colsample_bytree = 1,\n",
        "                          importance_type='gain',\n",
        "                          learning_rate = 0.2,\n",
        "                          max_depth = 5,\n",
        "                          alpha = 5,\n",
        "                          n_estimators = 200,\n",
        "                          seed=123)"
      ]
    },
    {
      "cell_type": "code",
      "execution_count": null,
      "id": "0b4086fc",
      "metadata": {
        "id": "0b4086fc",
        "outputId": "5bbb107d-9489-4fe5-f27a-b937b1834928",
        "colab": {
          "base_uri": "https://localhost:8080/",
          "height": 231
        }
      },
      "outputs": [
        {
          "output_type": "execute_result",
          "data": {
            "text/plain": [
              "XGBRegressor(alpha=5, base_score=None, booster='gbtree', callbacks=None,\n",
              "             colsample_bylevel=None, colsample_bynode=None, colsample_bytree=1,\n",
              "             device=None, early_stopping_rounds=None, enable_categorical=False,\n",
              "             eval_metric=None, feature_types=None, gamma=None, grow_policy=None,\n",
              "             importance_type='gain', interaction_constraints=None,\n",
              "             learning_rate=0.2, max_bin=None, max_cat_threshold=None,\n",
              "             max_cat_to_onehot=None, max_delta_step=None, max_depth=5,\n",
              "             max_leaves=None, min_child_weight=None, missing=nan,\n",
              "             monotone_constraints=None, multi_strategy=None, n_estimators=200,\n",
              "             n_jobs=None, num_parallel_tree=None, ...)"
            ],
            "text/html": [
              "<style>#sk-container-id-3 {color: black;background-color: white;}#sk-container-id-3 pre{padding: 0;}#sk-container-id-3 div.sk-toggleable {background-color: white;}#sk-container-id-3 label.sk-toggleable__label {cursor: pointer;display: block;width: 100%;margin-bottom: 0;padding: 0.3em;box-sizing: border-box;text-align: center;}#sk-container-id-3 label.sk-toggleable__label-arrow:before {content: \"▸\";float: left;margin-right: 0.25em;color: #696969;}#sk-container-id-3 label.sk-toggleable__label-arrow:hover:before {color: black;}#sk-container-id-3 div.sk-estimator:hover label.sk-toggleable__label-arrow:before {color: black;}#sk-container-id-3 div.sk-toggleable__content {max-height: 0;max-width: 0;overflow: hidden;text-align: left;background-color: #f0f8ff;}#sk-container-id-3 div.sk-toggleable__content pre {margin: 0.2em;color: black;border-radius: 0.25em;background-color: #f0f8ff;}#sk-container-id-3 input.sk-toggleable__control:checked~div.sk-toggleable__content {max-height: 200px;max-width: 100%;overflow: auto;}#sk-container-id-3 input.sk-toggleable__control:checked~label.sk-toggleable__label-arrow:before {content: \"▾\";}#sk-container-id-3 div.sk-estimator input.sk-toggleable__control:checked~label.sk-toggleable__label {background-color: #d4ebff;}#sk-container-id-3 div.sk-label input.sk-toggleable__control:checked~label.sk-toggleable__label {background-color: #d4ebff;}#sk-container-id-3 input.sk-hidden--visually {border: 0;clip: rect(1px 1px 1px 1px);clip: rect(1px, 1px, 1px, 1px);height: 1px;margin: -1px;overflow: hidden;padding: 0;position: absolute;width: 1px;}#sk-container-id-3 div.sk-estimator {font-family: monospace;background-color: #f0f8ff;border: 1px dotted black;border-radius: 0.25em;box-sizing: border-box;margin-bottom: 0.5em;}#sk-container-id-3 div.sk-estimator:hover {background-color: #d4ebff;}#sk-container-id-3 div.sk-parallel-item::after {content: \"\";width: 100%;border-bottom: 1px solid gray;flex-grow: 1;}#sk-container-id-3 div.sk-label:hover label.sk-toggleable__label {background-color: #d4ebff;}#sk-container-id-3 div.sk-serial::before {content: \"\";position: absolute;border-left: 1px solid gray;box-sizing: border-box;top: 0;bottom: 0;left: 50%;z-index: 0;}#sk-container-id-3 div.sk-serial {display: flex;flex-direction: column;align-items: center;background-color: white;padding-right: 0.2em;padding-left: 0.2em;position: relative;}#sk-container-id-3 div.sk-item {position: relative;z-index: 1;}#sk-container-id-3 div.sk-parallel {display: flex;align-items: stretch;justify-content: center;background-color: white;position: relative;}#sk-container-id-3 div.sk-item::before, #sk-container-id-3 div.sk-parallel-item::before {content: \"\";position: absolute;border-left: 1px solid gray;box-sizing: border-box;top: 0;bottom: 0;left: 50%;z-index: -1;}#sk-container-id-3 div.sk-parallel-item {display: flex;flex-direction: column;z-index: 1;position: relative;background-color: white;}#sk-container-id-3 div.sk-parallel-item:first-child::after {align-self: flex-end;width: 50%;}#sk-container-id-3 div.sk-parallel-item:last-child::after {align-self: flex-start;width: 50%;}#sk-container-id-3 div.sk-parallel-item:only-child::after {width: 0;}#sk-container-id-3 div.sk-dashed-wrapped {border: 1px dashed gray;margin: 0 0.4em 0.5em 0.4em;box-sizing: border-box;padding-bottom: 0.4em;background-color: white;}#sk-container-id-3 div.sk-label label {font-family: monospace;font-weight: bold;display: inline-block;line-height: 1.2em;}#sk-container-id-3 div.sk-label-container {text-align: center;}#sk-container-id-3 div.sk-container {/* jupyter's `normalize.less` sets `[hidden] { display: none; }` but bootstrap.min.css set `[hidden] { display: none !important; }` so we also need the `!important` here to be able to override the default hidden behavior on the sphinx rendered scikit-learn.org. See: https://github.com/scikit-learn/scikit-learn/issues/21755 */display: inline-block !important;position: relative;}#sk-container-id-3 div.sk-text-repr-fallback {display: none;}</style><div id=\"sk-container-id-3\" class=\"sk-top-container\"><div class=\"sk-text-repr-fallback\"><pre>XGBRegressor(alpha=5, base_score=None, booster=&#x27;gbtree&#x27;, callbacks=None,\n",
              "             colsample_bylevel=None, colsample_bynode=None, colsample_bytree=1,\n",
              "             device=None, early_stopping_rounds=None, enable_categorical=False,\n",
              "             eval_metric=None, feature_types=None, gamma=None, grow_policy=None,\n",
              "             importance_type=&#x27;gain&#x27;, interaction_constraints=None,\n",
              "             learning_rate=0.2, max_bin=None, max_cat_threshold=None,\n",
              "             max_cat_to_onehot=None, max_delta_step=None, max_depth=5,\n",
              "             max_leaves=None, min_child_weight=None, missing=nan,\n",
              "             monotone_constraints=None, multi_strategy=None, n_estimators=200,\n",
              "             n_jobs=None, num_parallel_tree=None, ...)</pre><b>In a Jupyter environment, please rerun this cell to show the HTML representation or trust the notebook. <br />On GitHub, the HTML representation is unable to render, please try loading this page with nbviewer.org.</b></div><div class=\"sk-container\" hidden><div class=\"sk-item\"><div class=\"sk-estimator sk-toggleable\"><input class=\"sk-toggleable__control sk-hidden--visually\" id=\"sk-estimator-id-3\" type=\"checkbox\" checked><label for=\"sk-estimator-id-3\" class=\"sk-toggleable__label sk-toggleable__label-arrow\">XGBRegressor</label><div class=\"sk-toggleable__content\"><pre>XGBRegressor(alpha=5, base_score=None, booster=&#x27;gbtree&#x27;, callbacks=None,\n",
              "             colsample_bylevel=None, colsample_bynode=None, colsample_bytree=1,\n",
              "             device=None, early_stopping_rounds=None, enable_categorical=False,\n",
              "             eval_metric=None, feature_types=None, gamma=None, grow_policy=None,\n",
              "             importance_type=&#x27;gain&#x27;, interaction_constraints=None,\n",
              "             learning_rate=0.2, max_bin=None, max_cat_threshold=None,\n",
              "             max_cat_to_onehot=None, max_delta_step=None, max_depth=5,\n",
              "             max_leaves=None, min_child_weight=None, missing=nan,\n",
              "             monotone_constraints=None, multi_strategy=None, n_estimators=200,\n",
              "             n_jobs=None, num_parallel_tree=None, ...)</pre></div></div></div></div></div>"
            ]
          },
          "metadata": {},
          "execution_count": 378
        }
      ],
      "source": [
        "#Training\n",
        "model4.fit(X_train, y_train)#,\n",
        "#         eval_set=[(X_train, y_train), (X_test, y_test)], \\\n",
        "#         eval_metric='mlogloss', verbose=False)"
      ]
    },
    {
      "cell_type": "code",
      "execution_count": null,
      "id": "8ccfd193",
      "metadata": {
        "id": "8ccfd193",
        "outputId": "83f66c5b-de8a-404b-fa38-18195de38af1",
        "colab": {
          "base_uri": "https://localhost:8080/"
        }
      },
      "outputs": [
        {
          "output_type": "stream",
          "name": "stdout",
          "text": [
            "Mean cross-validation score: 0.77\n"
          ]
        }
      ],
      "source": [
        "#K-fold cross validation\n",
        "scores = cross_val_score(model4, X_train, y_train, cv=10)\n",
        "print(\"Mean cross-validation score: %.2f\" % scores.mean())"
      ]
    },
    {
      "cell_type": "code",
      "execution_count": null,
      "id": "98f07b41",
      "metadata": {
        "id": "98f07b41",
        "outputId": "3ec6ccda-0837-4a25-eddd-32da661107a9",
        "colab": {
          "base_uri": "https://localhost:8080/"
        }
      },
      "outputs": [
        {
          "output_type": "stream",
          "name": "stdout",
          "text": [
            "K-fold CV average score: 0.76\n"
          ]
        }
      ],
      "source": [
        "kfold = KFold(n_splits=10, shuffle=True)\n",
        "kf_cv_scores = cross_val_score(model4, X_train, y_train, cv=kfold )\n",
        "print(\"K-fold CV average score: %.2f\" % kf_cv_scores.mean())"
      ]
    },
    {
      "cell_type": "code",
      "execution_count": null,
      "id": "27a2145a",
      "metadata": {
        "id": "27a2145a"
      },
      "outputs": [],
      "source": [
        "# Pred\n",
        "y_pred4 = model4.predict(X_test)"
      ]
    },
    {
      "cell_type": "code",
      "execution_count": null,
      "id": "wanted-cleveland",
      "metadata": {
        "id": "wanted-cleveland",
        "outputId": "5fe0234c-e52d-4a39-8980-a9fd735f193e",
        "colab": {
          "base_uri": "https://localhost:8080/"
        }
      },
      "outputs": [
        {
          "output_type": "stream",
          "name": "stdout",
          "text": [
            "RMSE: 5453336.32\n",
            "MAE: 4023237.93\n",
            "R2: 0.83\n"
          ]
        }
      ],
      "source": [
        "# accuracy check\n",
        "rmse = MSE(y_test, y_pred4, squared=False)\n",
        "mae = MAE(y_test, y_pred4)\n",
        "r2 = r2_score(y_test, y_pred4)\n",
        "print(\"RMSE: %.2f\" % rmse)\n",
        "print(\"MAE: %.2f\" % mae)\n",
        "print(\"R2: %.2f\" % r2)"
      ]
    },
    {
      "cell_type": "code",
      "execution_count": null,
      "id": "4c72aa60",
      "metadata": {
        "id": "4c72aa60",
        "outputId": "e36c9576-b079-44a6-f55c-04c11d767405",
        "colab": {
          "base_uri": "https://localhost:8080/",
          "height": 452
        }
      },
      "outputs": [
        {
          "output_type": "display_data",
          "data": {
            "text/plain": [
              "<Figure size 640x480 with 1 Axes>"
            ],
            "image/png": "[encoded data removed]"
          },
          "metadata": {}
        }
      ],
      "source": [
        "x_ax = range(len(y_test))\n",
        "plt.plot(x_ax, y_test, label=\"original\")\n",
        "plt.plot(x_ax, y_pred4, label=\"predicted\")\n",
        "plt.title(\"Car Prices: real vs. predicted\")\n",
        "plt.legend()\n",
        "plt.show()"
      ]
    }
  ],
  "metadata": {
    "kernelspec": {
      "display_name": "Python 3",
      "language": "python",
      "name": "python3"
    },
    "language_info": {
      "codemirror_mode": {
        "name": "ipython",
        "version": 3
      },
      "file_extension": ".py",
      "mimetype": "text/x-python",
      "name": "python",
      "nbconvert_exporter": "python",
      "pygments_lexer": "ipython3",
      "version": "3.7.7"
    },
    "colab": {
      "provenance": [],
      "collapsed_sections": [
        "634627c4",
        "ca82276d",
        "8dcab392",
        "b328b436"
      ],
      "include_colab_link": true
    }
  },
  "nbformat": 4,
  "nbformat_minor": 5
}